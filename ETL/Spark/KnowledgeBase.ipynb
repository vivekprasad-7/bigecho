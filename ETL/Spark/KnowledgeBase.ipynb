{
 "cells": [
  {
   "cell_type": "code",
   "execution_count": 1,
   "metadata": {},
   "outputs": [],
   "source": [
    "import re\n",
    "import hashlib\n"
   ]
  },
  {
   "cell_type": "code",
   "execution_count": 38,
   "metadata": {},
   "outputs": [],
   "source": [
    "#testing data masking\n",
    "test_int = 9818299222\n",
    "test_string = \"password-123#@\"\n",
    "column_val = str(test_string)\n",
    "strip_unicode = re.compile(\"([^-_a-zA-Z0-9!@#%&=,/'\\\";:~`\\$\\^\\*\\(\\)\\+\\[\\]\\.\\{\\}\\|\\?\\<\\>\\\\]+|[^\\s]+)\")\n",
    "column_value = strip_unicode.sub('',  column_val)\n",
    "domainIndex = column_value.find(\"@\")\n",
    "        "
   ]
  },
  {
   "cell_type": "code",
   "execution_count": 39,
   "metadata": {},
   "outputs": [
    {
     "name": "stdout",
     "output_type": "stream",
     "text": [
      "<sha256 HASH object @ 0x000001CBCEE010A8>\n"
     ]
    }
   ],
   "source": [
    "result = hashlib.sha256(test_string.encode())\n",
    "print(result)"
   ]
  },
  {
   "cell_type": "code",
   "execution_count": 40,
   "metadata": {},
   "outputs": [
    {
     "name": "stdout",
     "output_type": "stream",
     "text": [
      "772a622cdbae4b3e9230f48f33ec0290a2faa7c5ec8a4cf8fd1d0b5fdb83ce14\n"
     ]
    }
   ],
   "source": [
    "maskedStringValue = result.hexdigest()\n",
    "print(maskedStringValue)"
   ]
  },
  {
   "cell_type": "code",
   "execution_count": 45,
   "metadata": {},
   "outputs": [
    {
     "name": "stdout",
     "output_type": "stream",
     "text": [
      "<sha256 HASH object @ 0x000001CBCEE01148>\n"
     ]
    }
   ],
   "source": [
    "test_string2 = \"password-123#@gmail.com\"\n",
    "column_val2 = str(test_string)\n",
    "result22 = hashlib.sha256(column_val2.encode())\n",
    "print(result22)"
   ]
  },
  {
   "cell_type": "code",
   "execution_count": 46,
   "metadata": {},
   "outputs": [
    {
     "name": "stdout",
     "output_type": "stream",
     "text": [
      "772a622cdbae4b3e9230f48f33ec0290a2faa7c5ec8a4cf8fd1d0b5fdb83ce14\n"
     ]
    }
   ],
   "source": [
    "maskedStringValue22 = result22.hexdigest()\n",
    "print(maskedStringValue22)"
   ]
  },
  {
   "cell_type": "code",
   "execution_count": 35,
   "metadata": {},
   "outputs": [
    {
     "data": {
      "text/plain": [
       "b'password-123#'"
      ]
     },
     "execution_count": 35,
     "metadata": {},
     "output_type": "execute_result"
    }
   ],
   "source": [
    "\"password-123#\".encode()"
   ]
  },
  {
   "cell_type": "code",
   "execution_count": null,
   "metadata": {},
   "outputs": [],
   "source": []
  }
 ],
 "metadata": {
  "kernelspec": {
   "display_name": "Python 3",
   "language": "python",
   "name": "python3"
  },
  "language_info": {
   "codemirror_mode": {
    "name": "ipython",
    "version": 3
   },
   "file_extension": ".py",
   "mimetype": "text/x-python",
   "name": "python",
   "nbconvert_exporter": "python",
   "pygments_lexer": "ipython3",
   "version": "3.7.1"
  }
 },
 "nbformat": 4,
 "nbformat_minor": 2
}
