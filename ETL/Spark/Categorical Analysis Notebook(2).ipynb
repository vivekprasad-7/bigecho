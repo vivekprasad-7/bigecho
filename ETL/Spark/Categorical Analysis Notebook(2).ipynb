{
 "cells": [
  {
   "cell_type": "markdown",
   "metadata": {},
   "source": [
    "# Setting Up Spark\n",
    "----------------------\n"
   ]
  },
  {
   "cell_type": "code",
   "execution_count": 10,
   "metadata": {
    "ExecuteTime": {
     "end_time": "2019-08-23T09:16:51.275705Z",
     "start_time": "2019-08-23T09:16:51.187939Z"
    }
   },
   "outputs": [],
   "source": [
    "# Initialise findspark() and pyspark Context, Session and Configuration\n",
    "#import findspark\n",
    "#findspark.init()\n",
    "import secrets\n",
    "import pyspark\n",
    "from pyspark.sql import SparkSession, Window\n",
    "from pyspark.sql.functions import round\n",
    "import pyspark.sql.functions as Func \n",
    "from pyspark.sql.types import *\n",
    "# Create Pyspark Configuration and App Name and cluster URL\n",
    "spark = SparkSession.builder.config(\"spark.sql.warehouse.dir\", \"file:///C:/Users/vprasad/spark-warehouse\").appName(\"Categorical Analysis\").getOrCreate()\n",
    "sc = spark.sparkContext\n",
    "# Read the data from the csv file\n",
    "data = spark.read.csv(\"./data.csv\", inferSchema=True, multiLine=True, header=True)\n",
    "data.show(10, False)"
   ]
  },
  {
   "cell_type": "markdown",
   "metadata": {},
   "source": [
    "# Create Spark Session and Context"
   ]
  },
  {
   "cell_type": "code",
   "execution_count": 11,
   "metadata": {
    "ExecuteTime": {
     "end_time": "2019-08-23T09:17:00.727245Z",
     "start_time": "2019-08-23T09:16:52.670901Z"
    }
   },
   "outputs": [],
   "source": [
    "# Create Pyspark Configuration and App Name and cluster URL\n",
    "spark = SparkSession.builder.config(\"spark.sql.warehouse.dir\", \"file:///C:/Users/vprasad/spark-warehouse\").appName(\"Categorical Analysis\").getOrCreate()\n",
    "sc = spark.sparkContext"
   ]
  },
  {
   "cell_type": "markdown",
   "metadata": {},
   "source": [
    "# Read the CSV and load the data"
   ]
  },
  {
   "cell_type": "code",
   "execution_count": 12,
   "metadata": {
    "ExecuteTime": {
     "end_time": "2019-08-23T09:17:06.274360Z",
     "start_time": "2019-08-23T09:17:02.775579Z"
    },
    "cell_style": "center"
   },
   "outputs": [
    {
     "name": "stdout",
     "output_type": "stream",
     "text": [
      "+---------+---------+-----------------------------------+--------+--------------+---------+----------+--------------+\n",
      "|InvoiceNo|StockCode|Description                        |Quantity|InvoiceDate   |UnitPrice|CustomerID|Country       |\n",
      "+---------+---------+-----------------------------------+--------+--------------+---------+----------+--------------+\n",
      "|536365   |85123A   |WHITE HANGING HEART T-LIGHT HOLDER |6       |12/1/2010 8:26|2.55     |17850     |United Kingdom|\n",
      "|536365   |71053    |WHITE METAL LANTERN                |6       |12/1/2010 8:26|3.39     |17850     |United Kingdom|\n",
      "|536365   |84406B   |CREAM CUPID HEARTS COAT HANGER     |8       |12/1/2010 8:26|2.75     |17850     |United Kingdom|\n",
      "|536365   |84029G   |KNITTED UNION FLAG HOT WATER BOTTLE|6       |12/1/2010 8:26|3.39     |17850     |United Kingdom|\n",
      "|536365   |84029E   |RED WOOLLY HOTTIE WHITE HEART.     |6       |12/1/2010 8:26|3.39     |17850     |United Kingdom|\n",
      "|536365   |22752    |SET 7 BABUSHKA NESTING BOXES       |2       |12/1/2010 8:26|7.65     |17850     |United Kingdom|\n",
      "|536365   |21730    |GLASS STAR FROSTED T-LIGHT HOLDER  |6       |12/1/2010 8:26|4.25     |17850     |United Kingdom|\n",
      "|536366   |22633    |HAND WARMER UNION JACK             |6       |12/1/2010 8:28|1.85     |17850     |United Kingdom|\n",
      "|536366   |22632    |HAND WARMER RED POLKA DOT          |6       |12/1/2010 8:28|1.85     |17850     |United Kingdom|\n",
      "|536367   |84879    |ASSORTED COLOUR BIRD ORNAMENT      |32      |12/1/2010 8:34|1.69     |13047     |United Kingdom|\n",
      "+---------+---------+-----------------------------------+--------+--------------+---------+----------+--------------+\n",
      "only showing top 10 rows\n",
      "\n"
     ]
    }
   ],
   "source": [
    "# Read the data from the csv file\n",
    "data = spark.read.csv(\"./data.csv\", inferSchema=True, multiLine=True, header=True)\n",
    "data.show(10, False)"
   ]
  },
  {
   "cell_type": "markdown",
   "metadata": {},
   "source": [
    "# Create *transaction_item_mft* and *card_dim_c* dataframes\n",
    "----------------\n",
    "* `card_dim_c` \n",
    "    - `cardid: integer (nullable = true)`\n",
    "    - `Country: string (nullable = true)`\n",
    "* `transaction_item_mft`\n",
    "    - `TRANSACTION_ID: string (nullable = true)` \n",
    "    - `Product_Code: string (nullable = true)` \n",
    "    - `Product_desc: string (nullable = true)` \n",
    "    - `date_id: string (nullable = true)`\n",
    "    - `net_spend_amt: double (nullable = true)`\n",
    "    - `item_qty: integer (nullable = true)`\n",
    "    - `CustomerID: integer (nullable = true)`\n",
    "    - `Country: string (nullable = true)`"
   ]
  },
  {
   "cell_type": "code",
   "execution_count": 13,
   "metadata": {
    "ExecuteTime": {
     "end_time": "2019-08-23T09:17:08.723436Z",
     "start_time": "2019-08-23T09:17:08.514031Z"
    }
   },
   "outputs": [],
   "source": [
    "# Rename and split the DF into 2 tables\n",
    "card_dim_c = data.selectExpr(['CustomerID as cardid', 'Country']).distinct() # Getting only the distinct customers\n",
    "\n",
    "# Removing the UnitPrice Column and calculating the net_aspend_amt\n",
    "transaction_item_mft = data.selectExpr(\n",
    "    ['InvoiceNo as TRANSACTION_ID','StockCode as Product_Code',\n",
    "     'Description as Product_desc', 'InvoiceDate as date_id',\n",
    "     'round(Quantity * UnitPrice, 2) as net_spend_amt',\n",
    "     'Quantity as item_qty', 'CustomerID',\n",
    "     'Country']).distinct()\n",
    "\n",
    "# A function to convert any Column of String Objects into Date Objects\n",
    "def convertColToDate(df, colName, currentDateFormat):\n",
    "    return df.withColumn(colName,Func.to_date(Func.unix_timestamp(Func.col(colName), currentDateFormat).cast(\"timestamp\")) )\n",
    "\n",
    "# Create the new column and apply the UDF\n",
    "card_dim_c = card_dim_c.withColumn(\"card_code\",Func.lit(udf_add_card_code()))\n",
    "card_dim_c.show(10)"
   ]
  },
  {
   "cell_type": "markdown",
   "metadata": {
    "ExecuteTime": {
     "end_time": "2019-08-22T08:26:45.702489Z",
     "start_time": "2019-08-22T08:26:45.688534Z"
    }
   },
   "source": [
    "# Helper Functions\n",
    "---------------------------\n",
    "* `add_card_code()` to create a new column with Unique `card_code`.\n",
    "* `convertColToDate()` to convert a string column into `Date Object`.\n",
    "* `spendSummaryByCustomer()` to find the summary of Amount spent by a customer within a **time range**"
   ]
  },
  {
   "cell_type": "code",
   "execution_count": 14,
   "metadata": {
    "ExecuteTime": {
     "end_time": "2019-08-23T09:17:10.163496Z",
     "start_time": "2019-08-23T09:17:10.159506Z"
    }
   },
   "outputs": [],
   "source": [
    "# Creating a function to generate Unique Identifiers of length 6\n",
    "LENGTH = 6 # Should be an even number\n",
    "def add_card_code():\n",
    "    # Generate the token and append it to \"C0\"\n",
    "    return \"C0\"+secrets.token_hex(int(LENGTH/2))\n",
    "\n",
    "# Convert the function to a Spark UDF\n",
    "udf_add_card_code = Func.udf(add_card_code, StringType())"
   ]
  },
  {
   "cell_type": "code",
   "execution_count": 15,
   "metadata": {
    "ExecuteTime": {
     "end_time": "2019-08-23T09:17:11.419676Z",
     "start_time": "2019-08-23T09:17:11.415661Z"
    }
   },
   "outputs": [],
   "source": [
    "# A function to convert any Column of String Objects into Date Objects\n",
    "def convertColToDate(df, colName, currentDateFormat):\n",
    "    return df.withColumn(colName,Func.to_date(Func.unix_timestamp(Func.col(colName), currentDateFormat).cast(\"timestamp\")) )"
   ]
  },
  {
   "cell_type": "code",
   "execution_count": 16,
   "metadata": {
    "ExecuteTime": {
     "end_time": "2019-08-23T09:17:12.316562Z",
     "start_time": "2019-08-23T09:17:12.310613Z"
    }
   },
   "outputs": [],
   "source": [
    "# A function to find the Amount spend by all the customers b/w a date range\n",
    "def spendSummaryByCustomer(initial_date, final_date):\n",
    "    if(initial_date == final_date):\n",
    "        return transaction_item_mft.filter(Func.col('date_id') == Func.lit(initial_date)).groupBy('CustomerID').agg(Func.round(Func.sum('net_spend_amt'), 2).alias('net_spend_amt'))\n",
    "    else:\n",
    "        return transaction_item_mft.filter((Func.col(\"date_id\") >= Func.lit(initial_date)) & (Func.col(\"date_id\") <= Func.lit(final_date))).groupBy('CustomerID').agg(Func.round(Func.sum('net_spend_amt'), 2).alias('net_spend_amt'))\n",
    "    "
   ]
  },
  {
   "cell_type": "code",
   "execution_count": null,
   "metadata": {},
   "outputs": [],
   "source": []
  },
  {
   "cell_type": "code",
   "execution_count": 17,
   "metadata": {
    "ExecuteTime": {
     "end_time": "2019-08-23T09:26:23.243188Z",
     "start_time": "2019-08-23T09:26:23.227939Z"
    }
   },
   "outputs": [],
   "source": []
  },
  {
   "cell_type": "code",
   "execution_count": 30,
   "metadata": {
    "ExecuteTime": {
     "end_time": "2019-08-23T09:35:31.093885Z",
     "start_time": "2019-08-23T09:35:31.078262Z"
    }
   },
   "outputs": [],
   "source": []
  },
  {
   "cell_type": "code",
   "execution_count": 29,
   "metadata": {
    "ExecuteTime": {
     "end_time": "2019-08-23T09:17:17.035834Z",
     "start_time": "2019-08-23T09:17:17.030876Z"
    }
   },
   "outputs": [],
   "source": []
  },
  {
   "cell_type": "markdown",
   "metadata": {},
   "source": [
    "# Add a new column in *card_dim_c* with Unique Identifiers as *card_code*\n",
    "----------------------------------------\n",
    "* create the column\n",
    "* validate for any duplicate entry"
   ]
  },
  {
   "cell_type": "code",
   "execution_count": 13,
   "metadata": {
    "ExecuteTime": {
     "end_time": "2019-08-23T09:17:20.354702Z",
     "start_time": "2019-08-23T09:17:18.441884Z"
    },
    "cell_style": "split"
   },
   "outputs": [
    {
     "name": "stdout",
     "output_type": "stream",
     "text": [
      "+------+--------------+---------+\n",
      "|cardid|       Country|card_code|\n",
      "+------+--------------+---------+\n",
      "| 16143|United Kingdom| C0d3c6c9|\n",
      "| 13983|United Kingdom| C0335b34|\n",
      "| 15854|United Kingdom| C02104f7|\n",
      "| 17634|United Kingdom| C0ba921c|\n",
      "| 12528|       Germany| C0488963|\n",
      "| 14555|United Kingdom| C0693ecd|\n",
      "| 13751|United Kingdom| C0588176|\n",
      "| 12933|United Kingdom| C0ea6d5f|\n",
      "| 17747|United Kingdom| C093dacb|\n",
      "| 15782|United Kingdom| C09f918f|\n",
      "+------+--------------+---------+\n",
      "only showing top 10 rows\n",
      "\n"
     ]
    }
   ],
   "source": [
    "# Create the new column and apply the UDF\n",
    "card_dim_c = card_dim_c.withColumn(\"card_code\",Func.lit(udf_add_card_code()))\n",
    "card_dim_c.show(10)"
   ]
  },
  {
   "cell_type": "code",
   "execution_count": 14,
   "metadata": {
    "ExecuteTime": {
     "end_time": "2019-08-23T09:18:46.881267Z",
     "start_time": "2019-08-23T09:17:21.519604Z"
    },
    "cell_style": "split"
   },
   "outputs": [
    {
     "name": "stdout",
     "output_type": "stream",
     "text": [
      "root\n",
      " |-- cardid: integer (nullable = true)\n",
      " |-- Country: string (nullable = true)\n",
      " |-- card_code: string (nullable = true)\n",
      "\n",
      "No Duplicates Found!\n"
     ]
    }
   ],
   "source": []
  },
  {
   "cell_type": "code",
   "execution_count": null,
   "metadata": {},
   "outputs": [],
   "source": [
    "# Rename and split the DF into 2 tables\n",
    "card_dim_c = data.selectExpr(['CustomerID as cardid', 'Country']).distinct() # Getting only the distinct customers\n",
    "\n",
    "# Removing the UnitPrice Column and calculating the net_aspend_amt\n",
    "transaction_item_mft = data.selectExpr(\n",
    "    ['InvoiceNo as TRANSACTION_ID','StockCode as Product_Code',\n",
    "     'Description as Product_desc', 'InvoiceDate as date_id',\n",
    "     'round(Quantity * UnitPrice, 2) as net_spend_amt',\n",
    "     'Quantity as item_qty', 'CustomerID',\n",
    "     'Country']).distinct()\n",
    "\n",
    "# A function to convert any Column of String Objects into Date Objects\n",
    "def convertColToDate(df, colName, currentDateFormat):\n",
    "    return df.withColumn(colName,Func.to_date(Func.unix_timestamp(Func.col(colName), currentDateFormat).cast(\"timestamp\")) )\n",
    "\n",
    "# Create the new column and apply the UDF\n",
    "card_dim_c = card_dim_c.withColumn(\"card_code\",Func.lit(udf_add_card_code()))\n",
    "card_dim_c.show(10)\n",
    "\n",
    "card_dim_c.printSchema()\n",
    "# Verify that there are no Duplicates in the Column\n",
    "print(\"No Duplicates Found!\") if card_dim_c.select('card_code').distinct().count() == card_dim_c.select('card_code').count() else print(\"Duplicates Found!\")\n",
    "\n",
    "# Define the schema for the DF\n",
    "fields = [\n",
    "    StructField('store_id', IntegerType(), False),\n",
    "    StructField('store_code', StringType() ,False)\n",
    "]\n",
    "\n",
    "schema = StructType(fields)\n",
    "# Create the DF from the list\n",
    "store_dim_c = spark.createDataFrame(store_data, schema)\n",
    "\n",
    "store_dim_c.show()"
   ]
  },
  {
   "cell_type": "markdown",
   "metadata": {},
   "source": [
    "# Creating *store_dim_c* Table\n",
    "----------------\n",
    "* Create 13 `store_id`'s and Unique `store_code`\n",
    "* Create a DF from the Dict()"
   ]
  },
  {
   "cell_type": "code",
   "execution_count": 15,
   "metadata": {
    "ExecuteTime": {
     "end_time": "2019-08-23T09:18:58.294350Z",
     "start_time": "2019-08-23T09:18:58.277276Z"
    },
    "cell_style": "split"
   },
   "outputs": [
    {
     "data": {
      "text/plain": [
       "[{'store_id': 1, 'store_code': 'S000efcb'},\n",
       " {'store_id': 2, 'store_code': 'S00014d3'},\n",
       " {'store_id': 3, 'store_code': 'S000afdf'},\n",
       " {'store_id': 4, 'store_code': 'S00087e5'},\n",
       " {'store_id': 5, 'store_code': 'S000a08f'},\n",
       " {'store_id': 6, 'store_code': 'S0007026'},\n",
       " {'store_id': 7, 'store_code': 'S000470b'},\n",
       " {'store_id': 8, 'store_code': 'S000f0e0'},\n",
       " {'store_id': 9, 'store_code': 'S000b874'},\n",
       " {'store_id': 10, 'store_code': 'S00008dc'},\n",
       " {'store_id': 11, 'store_code': 'S000da5b'},\n",
       " {'store_id': 12, 'store_code': 'S000f5e5'},\n",
       " {'store_id': 13, 'store_code': 'S0000f66'}]"
      ]
     },
     "execution_count": 15,
     "metadata": {},
     "output_type": "execute_result"
    }
   ],
   "source": [
    "\n",
    "# A function to convert any Column of String Objects into Date Objects\n",
    "def convertColToDate(df, colName, currentDateFormat):\n",
    "    return df.withColumn(colName,Func.to_date(Func.unix_timestamp(Func.col(colName), currentDateFormat).cast(\"timestamp\")) )\n",
    "\n",
    "# Create the new column and apply the UDF\n",
    "card_dim_c = card_dim_c.withColumn(\"card_code\",Func.lit(udf_add_card_code()))\n",
    "card_dim_c.show(10)\n",
    "\n",
    "card_dim_c.printSchema()\n",
    "# Verify that there are no Duplicates in the Column\n",
    "print(\"No Duplicates Found!\") if card_dim_c.select('card_code').distinct().count() == card_dim_c.select('card_code').count() else print(\"Duplicates Found!\")\n",
    "\n",
    "\n",
    "# Create a static Dict for the store_dim_c table and generate unique store_codes\n",
    "store_data = [ {'store_id': x, 'store_code': str(\"S000\"+secrets.token_hex(2))} for x in range(1, 14)]\n",
    "store_data\n",
    "\n"
   ]
  },
  {
   "cell_type": "code",
   "execution_count": 16,
   "metadata": {
    "ExecuteTime": {
     "end_time": "2019-08-23T09:19:04.134466Z",
     "start_time": "2019-08-23T09:19:00.374469Z"
    },
    "cell_style": "split",
    "scrolled": false
   },
   "outputs": [
    {
     "name": "stdout",
     "output_type": "stream",
     "text": [
      "+--------+----------+\n",
      "|store_id|store_code|\n",
      "+--------+----------+\n",
      "|       1|  S000efcb|\n",
      "|       2|  S00014d3|\n",
      "|       3|  S000afdf|\n",
      "|       4|  S00087e5|\n",
      "|       5|  S000a08f|\n",
      "|       6|  S0007026|\n",
      "|       7|  S000470b|\n",
      "|       8|  S000f0e0|\n",
      "|       9|  S000b874|\n",
      "|      10|  S00008dc|\n",
      "|      11|  S000da5b|\n",
      "|      12|  S000f5e5|\n",
      "|      13|  S0000f66|\n",
      "+--------+----------+\n",
      "\n"
     ]
    }
   ],
   "source": [
    "# Define the schema for the DF\n",
    "fields = [\n",
    "    StructField('store_id', IntegerType(), False),\n",
    "    StructField('store_code', StringType() ,False)\n",
    "]\n",
    "schema = StructType(fields)\n",
    "# Create the DF from the list\n",
    "store_dim_c = spark.createDataFrame(store_data, schema)\n",
    "\n",
    "store_dim_c.show()"
   ]
  },
  {
   "cell_type": "markdown",
   "metadata": {},
   "source": [
    "# Converting the string date column into Date Object\n",
    "------------------------\n",
    "* Remove the HH:MM component from the string\n",
    "* Convert it into Date Object"
   ]
  },
  {
   "cell_type": "code",
   "execution_count": 17,
   "metadata": {
    "ExecuteTime": {
     "end_time": "2019-08-23T09:20:41.151496Z",
     "start_time": "2019-08-23T09:20:38.201390Z"
    },
    "cell_style": "split"
   },
   "outputs": [
    {
     "name": "stdout",
     "output_type": "stream",
     "text": [
      "+---------+\n",
      "|  date_id|\n",
      "+---------+\n",
      "|12/1/2010|\n",
      "+---------+\n",
      "only showing top 1 row\n",
      "\n"
     ]
    }
   ],
   "source": [
    "# split the entries of the column by \" \"\n",
    "splits = Func.split(transaction_item_mft['date_id'], ' ')\n",
    "# removing the HH:MM from the timestamp\n",
    "transaction_item_mft = transaction_item_mft.withColumn('date_id', splits.getItem(0))\n",
    "transaction_item_mft.select('date_id').show(1)"
   ]
  },
  {
   "cell_type": "code",
   "execution_count": 18,
   "metadata": {
    "ExecuteTime": {
     "end_time": "2019-08-23T09:20:42.281522Z",
     "start_time": "2019-08-23T09:20:42.231656Z"
    },
    "cell_style": "split"
   },
   "outputs": [],
   "source": [
    "# Apply the new Date Format\n",
    "transaction_item_mft = convertColToDate(transaction_item_mft, 'date_id', 'MM/dd/yyyy')"
   ]
  },
  {
   "cell_type": "markdown",
   "metadata": {},
   "source": [
    "# Drop the rows with null values and duplicates\n",
    "---------------------"
   ]
  },
  {
   "cell_type": "code",
   "execution_count": 21,
   "metadata": {
    "ExecuteTime": {
     "end_time": "2019-08-23T09:21:02.225590Z",
     "start_time": "2019-08-23T09:20:59.445733Z"
    }
   },
   "outputs": [
    {
     "name": "stdout",
     "output_type": "stream",
     "text": [
      "+--------------+------------+----------------------------------+---------------+-------------+--------+----------+--------------+\n",
      "|TRANSACTION_ID|Product_Code|Product_desc                      |date_id        |net_spend_amt|item_qty|CustomerID|Country       |\n",
      "+--------------+------------+----------------------------------+---------------+-------------+--------+----------+--------------+\n",
      "|536401        |22100       |SKULLS SQUARE TISSUE BOX          |12/1/2010 11:21|2.5          |2       |15862     |United Kingdom|\n",
      "|536464        |85095       |THREE CANVAS LUGGAGE TAGS         |12/1/2010 12:23|1.95         |1       |17968     |United Kingdom|\n",
      "|536527        |20712       |JUMBO BAG WOODLAND ANIMALS        |12/1/2010 13:04|19.5         |10      |12662     |Germany       |\n",
      "|536569        |22818       |CARD CHRISTMAS VILLAGE            |12/1/2010 15:35|5.04         |12      |16274     |United Kingdom|\n",
      "|536578        |22866       |HAND WARMER SCOTTY DOG DESIGN     |12/1/2010 16:15|50.4         |24      |17690     |United Kingdom|\n",
      "|536579        |21232       |STRAWBERRY CERAMIC TRINKET BOX    |12/1/2010 16:16|228.96       |216     |13777     |United Kingdom|\n",
      "|536597        |22220       |CAKE STAND LOVEBIRD 2 TIER WHITE  |12/1/2010 17:35|9.95         |1       |18011     |United Kingdom|\n",
      "|536599        |22727       |ALARM CLOCK BAKELIKE RED          |12/2/2010 7:49 |15.0         |4       |15694     |United Kingdom|\n",
      "|536613        |22736       |RIBBON REEL MAKING SNOWMEN        |12/2/2010 9:44 |16.5         |10      |17855     |United Kingdom|\n",
      "|536615        |22634       |CHILDS BREAKFAST SET SPACEBOY     |12/2/2010 10:09|19.9         |2       |14047     |United Kingdom|\n",
      "|536618        |21914       |BLUE HARMONICA IN BOX             |12/2/2010 10:17|45.0         |36      |17017     |United Kingdom|\n",
      "|536796        |22328       |ROUND SNACK BOXES SET OF 4 FRUITS |12/2/2010 15:46|2.95         |1       |15574     |United Kingdom|\n",
      "|536805        |85152       |HAND OVER THE CHOCOLATE   SIGN    |12/2/2010 16:38|50.4         |24      |14775     |United Kingdom|\n",
      "|536813        |17003       |BROCADE RING PURSE                |12/2/2010 16:59|7.56         |36      |15646     |United Kingdom|\n",
      "|536832        |22763       |KEY CABINET MA CAMPAGNE           |12/2/2010 17:41|19.9         |2       |16634     |United Kingdom|\n",
      "|536833        |21364       |PEACE SMALL WOOD LETTERS          |12/2/2010 17:48|13.5         |2       |18239     |United Kingdom|\n",
      "|536846        |22625       |RED KITCHEN SCALES                |12/2/2010 19:59|8.5          |1       |14573     |United Kingdom|\n",
      "|536947        |21098       |CHRISTMAS TOILET ROLL             |12/3/2010 12:29|15.0         |12      |13013     |United Kingdom|\n",
      "|536981        |22130       |PARTY CONE CHRISTMAS DECORATION   |12/3/2010 14:26|5.1          |6       |14723     |United Kingdom|\n",
      "|537050        |21716       |BOYS VINTAGE TIN SEASIDE BUCKET   |12/5/2010 11:10|12.75        |5       |14800     |United Kingdom|\n",
      "+--------------+------------+----------------------------------+---------------+-------------+--------+----------+--------------+\n",
      "only showing top 20 rows\n",
      "\n"
     ]
    }
   ],
   "source": [
    "# Drop rows with null values in CustomerID\n",
    "transaction_item_mft = transaction_item_mft.dropna(subset=['CustomerID'])\n",
    "\n",
    "# Drop the rows with TRANSACTION_ID Strating with 'C'\n",
    "transaction_item_mft = transaction_item_mft.filter(~Func.col('TRANSACTION_ID').startswith('C'))\n",
    "\n",
    "transaction_item_mft.show(20, False)"
   ]
  },
  {
   "cell_type": "code",
   "execution_count": 22,
   "metadata": {
    "ExecuteTime": {
     "end_time": "2019-08-23T09:21:36.845520Z",
     "start_time": "2019-08-23T09:21:13.495631Z"
    },
    "cell_style": "split",
    "scrolled": false
   },
   "outputs": [
    {
     "name": "stdout",
     "output_type": "stream",
     "text": [
      "+----------------+----+----+-----------+\n",
      "|            date|week|year|fis_week_id|\n",
      "+----------------+----+----+-----------+\n",
      "| 1/31/2011 12:21|null|null|       null|\n",
      "|  2/1/2011 12:27|null|null|       null|\n",
      "| 5/12/2011 16:29|null|null|       null|\n",
      "|10/21/2011 14:23|null|null|       null|\n",
      "| 12/4/2011 12:52|null|null|       null|\n",
      "| 12/1/2010 11:45|null|null|       null|\n",
      "|  7/7/2011 18:29|null|null|       null|\n",
      "|  8/3/2011 12:20|null|null|       null|\n",
      "| 9/20/2011 10:06|null|null|       null|\n",
      "|11/11/2011 16:58|null|null|       null|\n",
      "| 12/2/2011 11:16|null|null|       null|\n",
      "| 12/5/2011 13:10|null|null|       null|\n",
      "|  1/5/2011 15:30|null|null|       null|\n",
      "|  6/3/2011 12:17|null|null|       null|\n",
      "|10/12/2011 15:27|null|null|       null|\n",
      "|11/27/2011 11:15|null|null|       null|\n",
      "| 12/6/2010 11:01|null|null|       null|\n",
      "|   2/1/2011 8:31|null|null|       null|\n",
      "| 4/28/2011 11:38|null|null|       null|\n",
      "| 6/24/2011 14:16|null|null|       null|\n",
      "+----------------+----+----+-----------+\n",
      "only showing top 20 rows\n",
      "\n"
     ]
    }
   ],
   "source": []
  },
  {
   "cell_type": "markdown",
   "metadata": {},
   "source": [
    "#  Create a new column named *fis_week_id* in the *transaction_item_mft* DF"
   ]
  },
  {
   "cell_type": "code",
   "execution_count": 21,
   "metadata": {
    "ExecuteTime": {
     "end_time": "2019-08-23T09:21:43.025622Z",
     "start_time": "2019-08-23T09:21:42.925535Z"
    },
    "cell_style": "center"
   },
   "outputs": [],
   "source": [
    "#create a new column named fis_week in transaction_item_mft table\n",
    "# transaction_item_mft = transaction_item_mft.withColumn(\"cycle_list\", Func.collect_set(\"fis_week_id\").over(Window.partitionBy(\"CustomerID\")))\n",
    "#transaction_item_mft.printSchema()"
   ]
  },
  {
   "cell_type": "code",
   "execution_count": 23,
   "metadata": {
    "ExecuteTime": {
     "end_time": "2019-08-23T09:21:49.285524Z",
     "start_time": "2019-08-23T09:21:46.555512Z"
    }
   },
   "outputs": [
    {
     "name": "stdout",
     "output_type": "stream",
     "text": [
      "+--------------+------------+--------------------+----------+-------------+--------+----------+--------------+-----------+\n",
      "|TRANSACTION_ID|Product_Code|        Product_desc|   date_id|net_spend_amt|item_qty|CustomerID|       Country|fis_week_id|\n",
      "+--------------+------------+--------------------+----------+-------------+--------+----------+--------------+-----------+\n",
      "|        536401|       22100|SKULLS SQUARE TIS...|2010-12-01|          2.5|       2|     15862|United Kingdom|     492010|\n",
      "|        536464|       85095|THREE CANVAS LUGG...|2010-12-01|         1.95|       1|     17968|United Kingdom|     492010|\n",
      "|        536527|       20712|JUMBO BAG WOODLAN...|2010-12-01|         19.5|      10|     12662|       Germany|     492010|\n",
      "|        536569|       22818|CARD CHRISTMAS VI...|2010-12-01|         5.04|      12|     16274|United Kingdom|     492010|\n",
      "|        536578|       22866|HAND WARMER SCOTT...|2010-12-01|         50.4|      24|     17690|United Kingdom|     492010|\n",
      "|        536579|       21232|STRAWBERRY CERAMI...|2010-12-01|       228.96|     216|     13777|United Kingdom|     492010|\n",
      "|        536597|       22220|CAKE STAND LOVEBI...|2010-12-01|         9.95|       1|     18011|United Kingdom|     492010|\n",
      "|        536599|       22727|ALARM CLOCK BAKEL...|2010-12-02|         15.0|       4|     15694|United Kingdom|     492010|\n",
      "|        536613|       22736|RIBBON REEL MAKIN...|2010-12-02|         16.5|      10|     17855|United Kingdom|     492010|\n",
      "|        536615|       22634|CHILDS BREAKFAST ...|2010-12-02|         19.9|       2|     14047|United Kingdom|     492010|\n",
      "|        536618|       21914|BLUE HARMONICA IN...|2010-12-02|         45.0|      36|     17017|United Kingdom|     492010|\n",
      "|        536796|       22328|ROUND SNACK BOXES...|2010-12-02|         2.95|       1|     15574|United Kingdom|     492010|\n",
      "|        536805|       85152|HAND OVER THE CHO...|2010-12-02|         50.4|      24|     14775|United Kingdom|     492010|\n",
      "|        536813|       17003| BROCADE RING PURSE |2010-12-02|         7.56|      36|     15646|United Kingdom|     492010|\n",
      "|        536832|       22763|KEY CABINET MA CA...|2010-12-02|         19.9|       2|     16634|United Kingdom|     492010|\n",
      "|        536833|       21364|PEACE SMALL WOOD ...|2010-12-02|         13.5|       2|     18239|United Kingdom|     492010|\n",
      "|        536846|       22625|  RED KITCHEN SCALES|2010-12-02|          8.5|       1|     14573|United Kingdom|     492010|\n",
      "|        536947|       21098|CHRISTMAS TOILET ...|2010-12-03|         15.0|      12|     13013|United Kingdom|     492010|\n",
      "|        536981|       22130|PARTY CONE CHRIST...|2010-12-03|          5.1|       6|     14723|United Kingdom|     492010|\n",
      "|        537050|       21716|BOYS VINTAGE TIN ...|2010-12-05|        12.75|       5|     14800|United Kingdom|     502010|\n",
      "+--------------+------------+--------------------+----------+-------------+--------+----------+--------------+-----------+\n",
      "only showing top 20 rows\n",
      "\n"
     ]
    }
   ],
   "source": [
    "transaction_item_mft.show()"
   ]
  },
  {
   "cell_type": "markdown",
   "metadata": {},
   "source": [
    "# Create customer summary at customer and fis_week level"
   ]
  },
  {
   "cell_type": "code",
   "execution_count": 22,
   "metadata": {
    "ExecuteTime": {
     "end_time": "2019-08-23T09:27:46.308776Z",
     "start_time": "2019-08-23T09:27:09.480939Z"
    },
    "cell_style": "center"
   },
   "outputs": [
    {
     "name": "stdout",
     "output_type": "stream",
     "text": [
      "+----------+-----------+-----------------+-----+-------+-------------------------------------------------------+\n",
      "|CustomerID|fis_week_id|transaction_count|qty  |spend  |cycle_list                                             |\n",
      "+----------+-----------+-----------------+-----+-------+-------------------------------------------------------+\n",
      "|12346     |42011      |1                |74215|77183.6|[42011]                                                |\n",
      "|12347     |242011     |18               |196  |382.52 |[502010, 322011, 502011, 152011, 52011, 242011, 452011]|\n",
      "|12347     |502010     |31               |319  |711.79 |[502010, 322011, 502011, 152011, 52011, 242011, 452011]|\n",
      "|12347     |502011     |11               |192  |224.82 |[502010, 322011, 502011, 152011, 52011, 242011, 452011]|\n",
      "|12347     |152011     |24               |483  |636.25 |[502010, 322011, 502011, 152011, 52011, 242011, 452011]|\n",
      "|12347     |322011     |22               |277  |584.91 |[502010, 322011, 502011, 152011, 52011, 242011, 452011]|\n",
      "|12347     |52011      |29               |315  |475.39 |[502010, 322011, 502011, 152011, 52011, 242011, 452011]|\n",
      "|12347     |452011     |47               |676  |1294.32|[502010, 322011, 502011, 152011, 52011, 242011, 452011]|\n",
      "|12348     |152011     |5                |269  |367.0  |[402011, 52011, 152011, 512010]                        |\n",
      "|12348     |512010     |17               |1254 |892.8  |[402011, 52011, 152011, 512010]                        |\n",
      "|12348     |402011     |3                |217  |310.0  |[402011, 52011, 152011, 512010]                        |\n",
      "|12348     |52011      |6                |601  |227.44 |[402011, 52011, 152011, 512010]                        |\n",
      "|12349     |482011     |73               |631  |1757.55|[482011]                                               |\n",
      "|12350     |62011      |17               |197  |334.4  |[62011]                                                |\n",
      "|12352     |392011     |18               |103  |366.25 |[122011, 402011, 132011, 82011, 452011, 102011, 392011]|\n",
      "|12352     |102011     |8                |29   |984.65 |[122011, 402011, 132011, 82011, 452011, 102011, 392011]|\n",
      "|12352     |132011     |8                |64   |160.33 |[122011, 402011, 132011, 82011, 452011, 102011, 392011]|\n",
      "|12352     |122011     |7                |63   |120.33 |[122011, 402011, 132011, 82011, 452011, 102011, 392011]|\n",
      "|12352     |402011     |14               |52   |266.25 |[122011, 402011, 132011, 82011, 452011, 102011, 392011]|\n",
      "|12352     |452011     |15               |127  |311.73 |[122011, 402011, 132011, 82011, 452011, 102011, 392011]|\n",
      "+----------+-----------+-----------------+-----+-------+-------------------------------------------------------+\n",
      "only showing top 20 rows\n",
      "\n"
     ]
    }
   ],
   "source": [
    "x.show(20, False)"
   ]
  },
  {
   "cell_type": "code",
   "execution_count": 40,
   "metadata": {},
   "outputs": [
    {
     "name": "stdout",
     "output_type": "stream",
     "text": [
      "+-------+\n",
      "|  spend|\n",
      "+-------+\n",
      "| 224.82|\n",
      "| 636.25|\n",
      "| 382.52|\n",
      "| 584.91|\n",
      "| 711.79|\n",
      "| 475.39|\n",
      "|1294.32|\n",
      "+-------+\n",
      "\n"
     ]
    }
   ],
   "source": [
    "#x.filter(Func.col('CustomerID')==12347).select('spend').show()"
   ]
  },
  {
   "cell_type": "code",
   "execution_count": 23,
   "metadata": {},
   "outputs": [],
   "source": []
  },
  {
   "cell_type": "code",
   "execution_count": 22,
   "metadata": {},
   "outputs": [
    {
     "name": "stdout",
     "output_type": "stream",
     "text": [
      "+----------+-----------+-----------------+-----+-------+-------------------------------------------------------+-----+\n",
      "|CustomerID|fis_week_id|transaction_count|qty  |spend  |cycle_list                                             |ntile|\n",
      "+----------+-----------+-----------------+-----+-------+-------------------------------------------------------+-----+\n",
      "|12346     |42011      |1                |74215|77183.6|[42011]                                                |1    |\n",
      "|12347     |502011     |11               |192  |224.82 |[502010, 322011, 502011, 152011, 52011, 242011, 452011]|1    |\n",
      "|12347     |242011     |18               |196  |382.52 |[502010, 322011, 502011, 152011, 52011, 242011, 452011]|1    |\n",
      "|12347     |52011      |29               |315  |475.39 |[502010, 322011, 502011, 152011, 52011, 242011, 452011]|1    |\n",
      "|12347     |322011     |22               |277  |584.91 |[502010, 322011, 502011, 152011, 52011, 242011, 452011]|1    |\n",
      "|12347     |152011     |24               |483  |636.25 |[502010, 322011, 502011, 152011, 52011, 242011, 452011]|2    |\n",
      "|12347     |502010     |31               |319  |711.79 |[502010, 322011, 502011, 152011, 52011, 242011, 452011]|2    |\n",
      "|12347     |452011     |47               |676  |1294.32|[502010, 322011, 502011, 152011, 52011, 242011, 452011]|2    |\n",
      "|12348     |52011      |6                |601  |227.44 |[402011, 52011, 152011, 512010]                        |1    |\n",
      "|12348     |402011     |3                |217  |310.0  |[402011, 52011, 152011, 512010]                        |1    |\n",
      "|12348     |152011     |5                |269  |367.0  |[402011, 52011, 152011, 512010]                        |2    |\n",
      "|12348     |512010     |17               |1254 |892.8  |[402011, 52011, 152011, 512010]                        |2    |\n",
      "|12349     |482011     |73               |631  |1757.55|[482011]                                               |1    |\n",
      "|12350     |62011      |17               |197  |334.4  |[62011]                                                |1    |\n",
      "|12352     |122011     |7                |63   |120.33 |[122011, 402011, 132011, 82011, 452011, 102011, 392011]|1    |\n",
      "|12352     |132011     |8                |64   |160.33 |[122011, 402011, 132011, 82011, 452011, 102011, 392011]|1    |\n",
      "|12352     |402011     |14               |52   |266.25 |[122011, 402011, 132011, 82011, 452011, 102011, 392011]|1    |\n",
      "|12352     |82011      |15               |98   |296.5  |[122011, 402011, 132011, 82011, 452011, 102011, 392011]|1    |\n",
      "|12352     |452011     |15               |127  |311.73 |[122011, 402011, 132011, 82011, 452011, 102011, 392011]|2    |\n",
      "|12352     |392011     |18               |103  |366.25 |[122011, 402011, 132011, 82011, 452011, 102011, 392011]|2    |\n",
      "+----------+-----------+-----------------+-----+-------+-------------------------------------------------------+-----+\n",
      "only showing top 20 rows\n",
      "\n"
     ]
    }
   ],
   "source": [
    "import pyspark.sql.window as W\n",
    "import pyspark.sql.types as T\n",
    "#(2*(RowNumber-1)/Cnt)+1\n",
    "_window = W.Window().partitionBy(\n",
    "        'CustomerID').orderBy('spend')\n",
    "ntile = x.withColumn('ntile', Func.ntile(2).over(_window))\n",
    "ntile.show(20,False)"
   ]
  },
  {
   "cell_type": "code",
   "execution_count": 24,
   "metadata": {},
   "outputs": [
    {
     "name": "stdout",
     "output_type": "stream",
     "text": [
      "+----------+-----+-----+-------+-------+\n",
      "|CustomerID|ntile|count|max    |min    |\n",
      "+----------+-----+-----+-------+-------+\n",
      "|12346     |1    |1    |77183.6|77183.6|\n",
      "|12347     |1    |4    |584.91 |224.82 |\n",
      "|12347     |2    |3    |1294.32|636.25 |\n",
      "|12348     |1    |2    |310.0  |227.44 |\n",
      "|12348     |2    |2    |892.8  |367.0  |\n",
      "|12349     |1    |1    |1757.55|1757.55|\n",
      "|12350     |1    |1    |334.4  |334.4  |\n",
      "|12352     |1    |4    |296.5  |120.33 |\n",
      "|12352     |2    |3    |984.65 |311.73 |\n",
      "|12353     |1    |1    |89.0   |89.0   |\n",
      "|12354     |1    |1    |1079.4 |1079.4 |\n",
      "|12355     |1    |1    |459.4  |459.4  |\n",
      "|12356     |1    |2    |481.46 |58.35  |\n",
      "|12356     |2    |1    |2271.62|2271.62|\n",
      "|12357     |1    |1    |6207.67|6207.67|\n",
      "|12358     |1    |1    |484.86 |484.86 |\n",
      "|12358     |2    |1    |683.2  |683.2  |\n",
      "|12359     |1    |2    |1109.32|547.5  |\n",
      "|12359     |2    |2    |2814.3 |1838.91|\n",
      "|12360     |1    |2    |1043.78|534.7  |\n",
      "+----------+-----+-----+-------+-------+\n",
      "only showing top 20 rows\n",
      "\n"
     ]
    }
   ],
   "source": [
    "partition_column='CustomerID'\n",
    "calculation_column ='spend'\n",
    "ntile.groupBy(partition_column, 'ntile').agg(\n",
    "        Func.count(Func.col(calculation_column)).alias('count'),\n",
    "        Func.max(Func.col(calculation_column)).alias('max'),\n",
    "        Func.min(Func.col(calculation_column)).alias('min')).show(20,False)"
   ]
  },
  {
   "cell_type": "code",
   "execution_count": 26,
   "metadata": {},
   "outputs": [
    {
     "name": "stdout",
     "output_type": "stream",
     "text": [
      "+----------+--------+--------+-----+\n",
      "|CustomerID|1st_tile|2nd_tile|count|\n",
      "+----------+--------+--------+-----+\n",
      "|12346     |77183.6 |77183.6 |1    |\n",
      "|12347     |584.91  |636.25  |7    |\n",
      "|12348     |310.0   |367.0   |4    |\n",
      "|12349     |1757.55 |1757.55 |1    |\n",
      "|12350     |334.4   |334.4   |1    |\n",
      "|12352     |296.5   |311.73  |7    |\n",
      "|12353     |89.0    |89.0    |1    |\n",
      "|12354     |1079.4  |1079.4  |1    |\n",
      "|12355     |459.4   |459.4   |1    |\n",
      "|12356     |481.46  |2271.62 |3    |\n",
      "|12357     |6207.67 |6207.67 |1    |\n",
      "|12358     |484.86  |683.2   |2    |\n",
      "|12359     |1109.32 |1838.91 |4    |\n",
      "|12360     |1043.78 |1083.58 |3    |\n",
      "|12361     |189.9   |189.9   |1    |\n",
      "|12362     |479.1   |495.24  |9    |\n",
      "|12363     |252.9   |299.1   |2    |\n",
      "|12364     |299.06  |310.32  |4    |\n",
      "|12365     |641.38  |641.38  |1    |\n",
      "|12367     |168.9   |168.9   |1    |\n",
      "+----------+--------+--------+-----+\n",
      "only showing top 20 rows\n",
      "\n"
     ]
    }
   ],
   "source": [
    "median_data =ntile.groupBy(partition_column, 'ntile').agg(\n",
    "        Func.count(Func.col(calculation_column)).alias('count'),\n",
    "        Func.max(Func.col(calculation_column)).alias('max'),\n",
    "        Func.min(Func.col(calculation_column)).alias('min'))\n",
    "\n",
    "median_data = median_data.groupBy(partition_column).agg(\n",
    "        Func.min('max').alias('1st_tile'),\n",
    "        Func.max('min').alias('2nd_tile'),\n",
    "        Func.sum('count').alias('count'))\n",
    "median_data.show(20,False)"
   ]
  },
  {
   "cell_type": "code",
   "execution_count": 38,
   "metadata": {},
   "outputs": [
    {
     "name": "stdout",
     "output_type": "stream",
     "text": [
      "+----------+---------+\n",
      "|CustomerID|med_spend|\n",
      "+----------+---------+\n",
      "|12346     |77183.6  |\n",
      "|12347     |584.91   |\n",
      "|12348     |338.5    |\n",
      "|12349     |1757.55  |\n",
      "|12350     |334.4    |\n",
      "|12352     |296.5    |\n",
      "|12353     |89.0     |\n",
      "|12354     |1079.4   |\n",
      "|12355     |459.4    |\n",
      "|12356     |481.46   |\n",
      "+----------+---------+\n",
      "only showing top 10 rows\n",
      "\n"
     ]
    }
   ],
   "source": [
    "median(x,'CustomerID','spend').show(10,False)"
   ]
  },
  {
   "cell_type": "code",
   "execution_count": null,
   "metadata": {},
   "outputs": [],
   "source": []
  },
  {
   "cell_type": "code",
   "execution_count": null,
   "metadata": {},
   "outputs": [],
   "source": []
  },
  {
   "cell_type": "code",
   "execution_count": null,
   "metadata": {},
   "outputs": [],
   "source": []
  },
  {
   "cell_type": "code",
   "execution_count": null,
   "metadata": {},
   "outputs": [],
   "source": []
  },
  {
   "cell_type": "code",
   "execution_count": null,
   "metadata": {},
   "outputs": [],
   "source": []
  },
  {
   "cell_type": "code",
   "execution_count": 24,
   "metadata": {
    "ExecuteTime": {
     "end_time": "2019-08-23T09:36:17.043250Z",
     "start_time": "2019-08-23T09:35:38.273019Z"
    },
    "scrolled": true
   },
   "outputs": [
    {
     "name": "stdout",
     "output_type": "stream",
     "text": [
      "+----------+--------------------+---------+---------+---------+-----------+-------+-------+-------+----------------+----------------+---------+-------------+---------+\n",
      "|CustomerID|          cycle_list|avg_spend|max_spend|min_spend|total_spend|avg_qty|max_qty|min_qty|distinct_periods|max_consec_weeks|total_qty|weeks_shopped|avg_visit|\n",
      "+----------+--------------------+---------+---------+---------+-----------+-------+-------+-------+----------------+----------------+---------+-------------+---------+\n",
      "|     12346|             [42011]|  77183.6|  77183.6|  77183.6|    77183.6|74215.0|  74215|  74215|               1|               1|    74215|            1|        1|\n",
      "|     12347|[502010, 322011, ...|   615.71|  1294.32|   224.82|     4310.0| 351.14|    676|    192|               6|               2|     2458|            7|       26|\n",
      "|     12348|[402011, 52011, 1...|   449.31|    892.8|   227.44|    1797.24| 585.25|   1254|    217|               4|               1|     2341|            4|        8|\n",
      "|     12349|            [482011]|  1757.55|  1757.55|  1757.55|    1757.55|  631.0|    631|    631|               1|               1|      631|            1|       73|\n",
      "|     12350|             [62011]|    334.4|    334.4|    334.4|      334.4|  197.0|    197|    197|               1|               1|      197|            1|       17|\n",
      "|     12352|[122011, 402011, ...|   358.01|   984.65|   120.33|    2506.04|  76.57|    127|     29|               7|               1|      536|            7|       12|\n",
      "|     12353|            [212011]|     89.0|     89.0|     89.0|       89.0|   20.0|     20|     20|               1|               1|       20|            1|        4|\n",
      "|     12354|            [172011]|   1079.4|   1079.4|   1079.4|     1079.4|  530.0|    530|    530|               1|               1|      530|            1|       58|\n",
      "|     12355|            [202011]|    459.4|    459.4|    459.4|      459.4|  240.0|    240|    240|               1|               1|      240|            1|       13|\n",
      "|     12356|[152011, 42011, 4...|   937.14|  2271.62|    58.35|    2811.43| 530.33|   1216|      5|               3|               1|     1591|            3|       20|\n",
      "|     12357|            [462011]|  6207.67|  6207.67|  6207.67|    6207.67| 2708.0|   2708|   2708|               1|               1|     2708|            1|      131|\n",
      "|     12358|    [502011, 292011]|   584.03|    683.2|   484.86|    1168.06|  124.0|    148|    100|               2|               1|      248|            2|       10|\n",
      "|     12359|[32011, 422011, 2...|  1577.51|   2814.3|    547.5|    6310.03| 402.25|    644|    144|               4|               1|     1609|            4|       61|\n",
      "|     12360|[222011, 342011, ...|   887.35|  1083.58|    534.7|    2662.06| 388.33|    491|    240|               3|               1|     1165|            3|       43|\n",
      "|     12361|             [92011]|    189.9|    189.9|    189.9|      189.9|   91.0|     91|     91|               1|               1|       91|            1|       10|\n",
      "|     12362|[422011, 402011, ...|   580.69|  1286.11|   303.76|    5226.23| 247.67|    381|    144|               9|               1|     2229|            9|       30|\n",
      "|     12363|    [162011, 352011]|    276.0|    299.1|    252.9|      552.0|  204.0|    282|    126|               2|               1|      408|            2|       12|\n",
      "|     12364|[342011, 452011, ...|   328.28|   623.92|     79.8|     1313.1|  376.5|    555|    181|               4|               1|     1506|            4|       21|\n",
      "|     12365|             [92011]|   641.38|   641.38|   641.38|     641.38|  174.0|    174|    174|               1|               1|      174|            1|       22|\n",
      "|     12367|            [502011]|    168.9|    168.9|    168.9|      168.9|  173.0|    173|    173|               1|               1|      173|            1|       11|\n",
      "+----------+--------------------+---------+---------+---------+-----------+-------+-------+-------+----------------+----------------+---------+-------------+---------+\n",
      "only showing top 20 rows\n",
      "\n"
     ]
    }
   ],
   "source": [
    "get_cust_summary(x).show()"
   ]
  },
  {
   "cell_type": "code",
   "execution_count": 24,
   "metadata": {},
   "outputs": [],
   "source": []
  },
  {
   "cell_type": "code",
   "execution_count": 6,
   "metadata": {},
   "outputs": [],
   "source": [
    "# Initialise findspark() and pyspark Context, Session and Configuration\n",
    "#import findspark\n",
    "#findspark.init()\n",
    "import secrets\n",
    "import pyspark\n",
    "from pyspark.sql import SparkSession, Window\n",
    "from pyspark.sql.functions import round\n",
    "import pyspark.sql.functions as Func\n",
    "import pyspark.sql.types as T\n",
    "import pyspark.sql.window as W\n",
    "# Create Pyspark Configuration and App Name and cluster URL\n",
    "spark = SparkSession.builder.config(\"spark.sql.warehouse.dir\", \"file:///C:/Users/vprasad/spark-warehouse\").appName(\"Categorical Analysis\").getOrCreate()\n",
    "sc = spark.sparkContext\n",
    "# Read the data from the csv file\n",
    "data = spark.read.csv(\"./data.csv\", inferSchema=True, multiLine=True, header=True)\n",
    "\n",
    "shabitCodes = {\n",
    "        'PR': 'Premium',\n",
    "        'VL': 'Valuable',\n",
    "        'PO': 'Potential',\n",
    "        'UN': 'Uncommitted',\n",
    "        'LP': 'Lapsing',\n",
    "        'GO': 'GoneAway',\n",
    "        '': 'Missing'}\n",
    "\n",
    "shab_lookup = {'11': 'PR', '12': 'PR', '13': 'PR',\n",
    "                            '14': 'VL', '15': 'VL', '16': 'PO', '19': 'LP',\n",
    "                            '21': 'VL', '22': 'VL', '23': 'VL',\n",
    "                            '24': 'PO', '25': 'PO', '26': 'UN', '29': 'LP',\n",
    "                            '31': 'PO', '32': 'PO', '33': 'PO',\n",
    "                            '34': 'UN', '35': 'UN', '36': 'UN', '39': 'LP'}\n",
    "\n",
    "spend_lookup = {'1': '1.High', '2': '2.Medium', '3': '3.Low'}\n",
    "\n",
    "visit_pattern_lookup = {'1': '1.Daily', '2': '2.Twice Weekly',\n",
    "                             '3': '3.Weekly', '4': '4.Stop Start',\n",
    "                             '5': '5.Now & Then', '6': '6.Hardly Ever',\n",
    "                             '9': '7.Lapsing'}\n"
   ]
  },
  {
   "cell_type": "code",
   "execution_count": 7,
   "metadata": {},
   "outputs": [],
   "source": [
    "def get_loyalty(transactions):\n",
    "    customer_summary = customer_metrics(transactions)\n",
    "    visit_pattern_udf = Func.udf(flag_visit_pattern1, T.StringType())\n",
    "    spend_level_udf = Func.udf(flag_spend, T.StringType())\n",
    "    flagged_summary = customer_summary.withColumn(\n",
    "            'visit_pattern',\n",
    "            visit_pattern_udf(\n",
    "                              Func.col('weeks_shopped'),\n",
    "                              Func.col('max_consec_weeks'),\n",
    "                              Func.col('avg_visit'),\n",
    "                              Func.col('distinct_periods')))\n",
    "        # assign spend flag\n",
    "    flagged_summary = flagged_summary.withColumn(\n",
    "        'spend_flag',\n",
    "        spend_level_udf(Func.col('med_spend'),\n",
    "                        Func.lit(band_high),\n",
    "                        Func.lit(band_low)))\n",
    "    def higher_level_cat(visit_pattern, spend_flag):\n",
    "                category = str(spend_flag) + str(visit_pattern)\n",
    "                return category\n",
    "    higher_level_udf = Func.udf(higher_level_cat, T.StringType())\n",
    "\n",
    "    def lookup_shab(val):\n",
    "        return shab_lookup[val]\n",
    "    lookup_shab_udf = Func.udf(lookup_shab, T.StringType())\n",
    "\n",
    "    def lookup_spend(val):\n",
    "        return spend_lookup[val]\n",
    "    lookup_spend_udf = Func.udf(lookup_spend, T.StringType())\n",
    "\n",
    "    def lookup_visit_pattern(val):\n",
    "        return visit_pattern_lookup[val]\n",
    "    lookup_visit_pattern_udf = Func.udf(lookup_visit_pattern, T.StringType())\n",
    "\n",
    "    flagged_summary = flagged_summary.withColumn(\n",
    "        'higher_level_cat',\n",
    "        higher_level_udf(Func.col('visit_pattern'),\n",
    "                         Func.col('spend_flag')))\n",
    "\n",
    "    flagged_summary = flagged_summary.withColumn(\n",
    "        'shabit',\n",
    "        lookup_shab_udf(Func.col('higher_level_cat'))).withColumn(\n",
    "            'spend_desc',\n",
    "            lookup_spend_udf(Func.col('spend_flag'))).withColumn(\n",
    "                'visit_desc',\n",
    "                lookup_visit_pattern_udf(Func.col('visit_pattern')))\n",
    "\n",
    "    return flagged_summary"
   ]
  },
  {
   "cell_type": "code",
   "execution_count": 10,
   "metadata": {},
   "outputs": [],
   "source": [
    "#suppose a dataframe\n",
    "\n",
    "def distinct_periods(weeks):\n",
    "        \"\"\" Retuns distinct period shopped\"\"\"\n",
    "        weeks.sort()\n",
    "        differences = [j - i for i, j in zip(weeks[:-1], weeks[1:])]\n",
    "        numperiods = 1\n",
    "        for k in differences:\n",
    "            if k > 1:\n",
    "                numperiods += 1\n",
    "        return numperiods\n",
    "distinct_periods_udf = Func.udf(distinct_periods, T.IntegerType())\n",
    "\n",
    "def max_consec_weeks(weeks):\n",
    "        \"\"\" Retruns max consecutive weeks shopped\"\"\"\n",
    "        weeks.sort()\n",
    "        differences = [j - i for i, j in zip(weeks[:-1], weeks[1:])]\n",
    "        max_weeks = 1\n",
    "        tempweeks = 1\n",
    "        for k in differences:\n",
    "            if k == 1:\n",
    "                tempweeks += 1\n",
    "            elif k > 1:\n",
    "                tempweeks = 1\n",
    "            if tempweeks > max_weeks:\n",
    "                max_weeks = tempweeks\n",
    "        return max_weeks\n",
    "max_consec_weeks_udf = Func.udf(max_consec_weeks, T.IntegerType())\n",
    "\n",
    "def median(data_frame, partition_column, calculation_column):\n",
    "    \"\"\"Returns median accross a partition\"\"\"\n",
    "\n",
    "    _window = W.Window().partitionBy(\n",
    "        partition_column).orderBy(calculation_column)\n",
    "    \n",
    "    ntile = data_frame.withColumn('ntile', Func.ntile(2).over(_window))\n",
    "\n",
    "    median_data = ntile.groupBy(partition_column, 'ntile').agg(\n",
    "        Func.count(Func.col(calculation_column)).alias('count'),\n",
    "        Func.max(Func.col(calculation_column)).alias('max'),\n",
    "        Func.min(Func.col(calculation_column)).alias('min'))\n",
    "\n",
    "    median_data = median_data.groupBy(partition_column).agg(\n",
    "        Func.min('max').alias('1st_tile'),\n",
    "        Func.max('min').alias('2nd_tile'),\n",
    "        Func.sum('count').alias('count'))\n",
    "\n",
    "    def med(tile_1, tile_2, count):\n",
    "        if count % 2 != 0:\n",
    "            return float(tile_1)\n",
    "        else:\n",
    "            return (float(tile_1) + float(tile_2)) / 2.0\n",
    "\n",
    "    median_udf = Func.udf(med, T.FloatType())\n",
    "\n",
    "    median_data = median_data.select(\n",
    "            partition_column,\n",
    "            median_udf(Func.col('1st_tile'),\n",
    "                       Func.col('2nd_tile'),\n",
    "                       Func.col('count')).alias('med_spend'))\n",
    "\n",
    "    return median_data\n",
    "\n",
    "def flag_visit_pattern1(weeks_shopped,\n",
    "                            max_consec_weeks, avg_visit, distinct_periods):\n",
    "        \"\"\" Assign Flag according to visit pattern \"\"\"\n",
    "\n",
    "        if (weeks_shopped >= 7) or ((weeks_shopped == 6) and (max_consec_weeks == 6)):\n",
    "\n",
    "            if avg_visit < 2:\n",
    "                return '3'\n",
    "            elif 2 <= avg_visit < 3:\n",
    "                return '2'\n",
    "            elif avg_visit >= 3:\n",
    "                return '1'\n",
    "\n",
    "        elif (weeks_shopped >= 4):\n",
    "            return '5'\n",
    "\n",
    "        elif 1 <= weeks_shopped <= 3:\n",
    "            return '6'\n",
    "\n",
    "        else:\n",
    "            return '99'\n",
    "visit_pattern_udf = Func.udf(flag_visit_pattern1,T.StringType())\n",
    "\n",
    "def flag_spend(med_spend, band_high, band_low):\n",
    "        \"\"\" Assign Flag according to spend \"\"\"\n",
    "\n",
    "        if med_spend < band_low:\n",
    "            return '3'\n",
    "\n",
    "        if band_low <= med_spend <= band_high:\n",
    "            return '2'\n",
    "\n",
    "        if med_spend > band_high:\n",
    "            return '1'"
   ]
  },
  {
   "cell_type": "code",
   "execution_count": 11,
   "metadata": {},
   "outputs": [],
   "source": [
    "def customer_metrics(df):\n",
    "\n",
    "    cust_week_summary= df.groupBy('CustomerID', 'fis_week_id').agg(\n",
    "        Func.count('TRANSACTION_ID').alias('transaction_count'),\n",
    "        Func.sum('item_qty').alias('qty'),\n",
    "        Func.round(Func.sum('net_spend_amt'), 2).alias('spend'),\n",
    "        Func.collect_set(\"fis_week_id\").over(Window.partitionBy(\n",
    "            \"CustomerID\")).alias(\"cycle_list\")).orderBy('CustomerID')\n",
    "\n",
    "    cust_summary= cust_week_summary.groupBy('CustomerID', 'cycle_list').agg(\n",
    "        Func.round(Func.avg('spend'), 2).alias('avg_spend'),\n",
    "        Func.max('spend').alias('max_spend'),\n",
    "        Func.min('spend').alias('min_spend'),\n",
    "        Func.round(Func.sum('spend'), 2).alias('total_spend'),\n",
    "        Func.round(Func.avg('qty'), 2).alias('avg_qty'),\n",
    "        Func.max('qty').alias('max_qty'),\n",
    "        Func.min('qty').alias('min_qty'),\n",
    "        distinct_periods_udf('cycle_list').alias('distinct_periods'),\n",
    "        max_consec_weeks_udf('cycle_list').alias('max_consec_weeks'),\n",
    "        Func.sum('qty').alias('total_qty'),\n",
    "        Func.count('fis_week_id').alias('weeks_shopped'),\n",
    "        Func.round(Func.avg('transaction_count')).cast(\n",
    "            IntegerType()).alias('avg_visit'))\n",
    "    \n",
    "    customer_summary = cust_summary.withColumn(\n",
    "        'distinct_periods',\n",
    "        distinct_periods_udf(F.col('cycle_list'))).withColumn(\n",
    "            'max_consec_weeks',\n",
    "            max_consec_weeks_udf(F.col('cycle_list')))\n",
    "\n",
    "    # determine median spend\n",
    "    median_spend = median(\n",
    "        data_frame=cust_week_summary)\n",
    "\n",
    "    customer_summary = customer_summary.join(\n",
    "        median_spend, on='CustomerID', how='left')\n",
    "\n",
    "    return customer_summary"
   ]
  },
  {
   "cell_type": "code",
   "execution_count": 12,
   "metadata": {},
   "outputs": [
    {
     "name": "stdout",
     "output_type": "stream",
     "text": [
      "+---------+---------+--------------------+--------+--------------+---------+----------+--------------+\n",
      "|InvoiceNo|StockCode|         Description|Quantity|   InvoiceDate|UnitPrice|CustomerID|       Country|\n",
      "+---------+---------+--------------------+--------+--------------+---------+----------+--------------+\n",
      "|   536365|   85123A|WHITE HANGING HEA...|       6|12/1/2010 8:26|     2.55|     17850|United Kingdom|\n",
      "|   536365|    71053| WHITE METAL LANTERN|       6|12/1/2010 8:26|     3.39|     17850|United Kingdom|\n",
      "|   536365|   84406B|CREAM CUPID HEART...|       8|12/1/2010 8:26|     2.75|     17850|United Kingdom|\n",
      "|   536365|   84029G|KNITTED UNION FLA...|       6|12/1/2010 8:26|     3.39|     17850|United Kingdom|\n",
      "|   536365|   84029E|RED WOOLLY HOTTIE...|       6|12/1/2010 8:26|     3.39|     17850|United Kingdom|\n",
      "|   536365|    22752|SET 7 BABUSHKA NE...|       2|12/1/2010 8:26|     7.65|     17850|United Kingdom|\n",
      "|   536365|    21730|GLASS STAR FROSTE...|       6|12/1/2010 8:26|     4.25|     17850|United Kingdom|\n",
      "|   536366|    22633|HAND WARMER UNION...|       6|12/1/2010 8:28|     1.85|     17850|United Kingdom|\n",
      "|   536366|    22632|HAND WARMER RED P...|       6|12/1/2010 8:28|     1.85|     17850|United Kingdom|\n",
      "|   536367|    84879|ASSORTED COLOUR B...|      32|12/1/2010 8:34|     1.69|     13047|United Kingdom|\n",
      "|   536367|    22745|POPPY'S PLAYHOUSE...|       6|12/1/2010 8:34|      2.1|     13047|United Kingdom|\n",
      "|   536367|    22748|POPPY'S PLAYHOUSE...|       6|12/1/2010 8:34|      2.1|     13047|United Kingdom|\n",
      "|   536367|    22749|FELTCRAFT PRINCES...|       8|12/1/2010 8:34|     3.75|     13047|United Kingdom|\n",
      "|   536367|    22310|IVORY KNITTED MUG...|       6|12/1/2010 8:34|     1.65|     13047|United Kingdom|\n",
      "|   536367|    84969|BOX OF 6 ASSORTED...|       6|12/1/2010 8:34|     4.25|     13047|United Kingdom|\n",
      "|   536367|    22623|BOX OF VINTAGE JI...|       3|12/1/2010 8:34|     4.95|     13047|United Kingdom|\n",
      "|   536367|    22622|BOX OF VINTAGE AL...|       2|12/1/2010 8:34|     9.95|     13047|United Kingdom|\n",
      "|   536367|    21754|HOME BUILDING BLO...|       3|12/1/2010 8:34|     5.95|     13047|United Kingdom|\n",
      "|   536367|    21755|LOVE BUILDING BLO...|       3|12/1/2010 8:34|     5.95|     13047|United Kingdom|\n",
      "|   536367|    21777|RECIPE BOX WITH M...|       4|12/1/2010 8:34|     7.95|     13047|United Kingdom|\n",
      "+---------+---------+--------------------+--------+--------------+---------+----------+--------------+\n",
      "only showing top 20 rows\n",
      "\n"
     ]
    }
   ],
   "source": [
    "data.show()"
   ]
  },
  {
   "cell_type": "code",
   "execution_count": null,
   "metadata": {},
   "outputs": [],
   "source": []
  },
  {
   "cell_type": "code",
   "execution_count": null,
   "metadata": {},
   "outputs": [],
   "source": []
  },
  {
   "cell_type": "code",
   "execution_count": null,
   "metadata": {},
   "outputs": [],
   "source": []
  },
  {
   "cell_type": "code",
   "execution_count": null,
   "metadata": {},
   "outputs": [],
   "source": []
  },
  {
   "cell_type": "code",
   "execution_count": null,
   "metadata": {},
   "outputs": [],
   "source": []
  },
  {
   "cell_type": "code",
   "execution_count": 28,
   "metadata": {},
   "outputs": [],
   "source": [
    "import time\n",
    "import datetime\n",
    "\n",
    "def recency(fis_week_id,offeset):\n",
    "    final_date=fis_week_id-lapsing_day\n",
    "    \n",
    "    print(final_date)"
   ]
  },
  {
   "cell_type": "code",
   "execution_count": 29,
   "metadata": {},
   "outputs": [
    {
     "name": "stdout",
     "output_type": "stream",
     "text": [
      "201894\n"
     ]
    }
   ],
   "source": [
    "recency(201901,7)"
   ]
  },
  {
   "cell_type": "code",
   "execution_count": 57,
   "metadata": {},
   "outputs": [
    {
     "name": "stdout",
     "output_type": "stream",
     "text": [
      "+----------+----+----+--------+\n",
      "|      date|week|year|fis_week|\n",
      "+----------+----+----+--------+\n",
      "|2011-06-17|  25|2011|  2036.0|\n",
      "|2011-10-05|  41|2011|  2052.0|\n",
      "|2011-01-24|   5|2011|  2016.0|\n",
      "|2011-04-19|  17|2011|  2028.0|\n",
      "|2011-10-02|  41|2011|  2052.0|\n",
      "|2011-01-21|   4|2011|  2015.0|\n",
      "|2011-04-18|  17|2011|  2028.0|\n",
      "|2011-05-24|  22|2011|  2033.0|\n",
      "|2011-10-06|  41|2011|  2052.0|\n",
      "|2011-01-05|   2|2011|  2013.0|\n",
      "|2011-11-25|  48|2011|  2059.0|\n",
      "|2011-03-11|  11|2011|  2022.0|\n",
      "|2011-10-21|  43|2011|  2054.0|\n",
      "|2011-02-03|   6|2011|  2017.0|\n",
      "|2011-10-07|  41|2011|  2052.0|\n",
      "|2011-08-15|  34|2011|  2045.0|\n",
      "|2011-06-29|  27|2011|  2038.0|\n",
      "|2011-09-01|  36|2011|  2047.0|\n",
      "|2011-06-24|  26|2011|  2037.0|\n",
      "|2011-07-31|  32|2011|  2043.0|\n",
      "+----------+----+----+--------+\n",
      "only showing top 20 rows\n",
      "\n"
     ]
    }
   ],
   "source": [
    "\n",
    "calander = transaction_item_mft.select(\n",
    "    Func.col(\"date_id\").alias(\"date\"),\n",
    "    Func.date_format(Func.to_date(\"date_id\", \"YYYY-MM-dd\"), \"w\").alias(\"week\"),\n",
    "    Func.year(\"date_id\").alias(\"year\"),\n",
    "    (Func.year(\"date_id\").cast(StringType())+Func.date_format(\"date_id\", \"w\").cast(StringType())).alias(\"fis_week\")\n",
    ").distinct()\n",
    "calander.show()"
   ]
  },
  {
   "cell_type": "code",
   "execution_count": 53,
   "metadata": {},
   "outputs": [
    {
     "name": "stdout",
     "output_type": "stream",
     "text": [
      "root\n",
      " |-- date: date (nullable = true)\n",
      " |-- week: string (nullable = true)\n",
      " |-- year: integer (nullable = true)\n",
      " |-- fis_week: double (nullable = true)\n",
      "\n"
     ]
    }
   ],
   "source": [
    "calander.printSchema()"
   ]
  },
  {
   "cell_type": "code",
   "execution_count": 15,
   "metadata": {},
   "outputs": [
    {
     "name": "stdout",
     "output_type": "stream",
     "text": [
      "+----------+----+----+--------+\n",
      "|      date|week|year|fis_week|\n",
      "+----------+----+----+--------+\n",
      "|2011-02-10|   7|2011|   20117|\n",
      "|2011-04-04|  15|2011|  201115|\n",
      "|2011-05-06|  19|2011|  201119|\n",
      "|2011-03-10|  11|2011|  201111|\n",
      "|2011-05-27|  22|2011|  201122|\n",
      "|2011-10-07|  41|2011|  201141|\n",
      "|2011-10-02|  41|2011|  201141|\n",
      "|2011-10-09|  42|2011|  201142|\n",
      "|2011-08-18|  34|2011|  201134|\n",
      "|2011-08-22|  35|2011|  201135|\n",
      "|2011-11-02|  45|2011|  201145|\n",
      "|2010-12-05|  50|2010|  201050|\n",
      "|2011-04-28|  18|2011|  201118|\n",
      "|2011-07-15|  29|2011|  201129|\n",
      "|2011-01-17|   4|2011|   20114|\n",
      "|2011-11-04|  45|2011|  201145|\n",
      "|2011-02-27|  10|2011|  201110|\n",
      "|2011-07-29|  31|2011|  201131|\n",
      "|2011-08-14|  34|2011|  201134|\n",
      "|2011-04-13|  16|2011|  201116|\n",
      "+----------+----+----+--------+\n",
      "only showing top 20 rows\n",
      "\n"
     ]
    }
   ],
   "source": [
    "from pyspark.sql.functions import *\n",
    "dd = spark.read.csv('D:\\\\POC\\\\calendar.csv',header=True)\n",
    "df = dd.drop(Func.col('_c0')).drop('fis_week_id')\n",
    "df.withColumn('fis_week', concat(col('year'),col('week'))).show()"
   ]
  },
  {
   "cell_type": "code",
   "execution_count": 9,
   "metadata": {},
   "outputs": [
    {
     "data": {
      "text/plain": [
       "39"
      ]
     },
     "execution_count": 9,
     "metadata": {},
     "output_type": "execute_result"
    }
   ],
   "source": [
    "query = \"\"\"select date from calender where fis_week_id = {fis_week_id} \"\"\".format(fis_week_id=fis_week_id)\n"
   ]
  },
  {
   "cell_type": "code",
   "execution_count": 23,
   "metadata": {},
   "outputs": [],
   "source": [
    "def adding_extra_zero(col):\n",
    "    if len(col)<2:\n",
    "        return \"0\"+col\n",
    "    else:\n",
    "        return col"
   ]
  },
  {
   "cell_type": "code",
   "execution_count": 24,
   "metadata": {},
   "outputs": [],
   "source": [
    "dd = udf(adding_extra_zero,StringType())"
   ]
  },
  {
   "cell_type": "code",
   "execution_count": 25,
   "metadata": {},
   "outputs": [
    {
     "name": "stdout",
     "output_type": "stream",
     "text": [
      "+----------+----+----+-------+\n",
      "|      date|week|year|newweek|\n",
      "+----------+----+----+-------+\n",
      "|2011-02-10|   7|2011|     07|\n",
      "|2011-04-04|  15|2011|     15|\n",
      "|2011-05-06|  19|2011|     19|\n",
      "|2011-03-10|  11|2011|     11|\n",
      "|2011-05-27|  22|2011|     22|\n",
      "|2011-10-07|  41|2011|     41|\n",
      "|2011-10-02|  41|2011|     41|\n",
      "|2011-10-09|  42|2011|     42|\n",
      "|2011-08-18|  34|2011|     34|\n",
      "|2011-08-22|  35|2011|     35|\n",
      "|2011-11-02|  45|2011|     45|\n",
      "|2010-12-05|  50|2010|     50|\n",
      "|2011-04-28|  18|2011|     18|\n",
      "|2011-07-15|  29|2011|     29|\n",
      "|2011-01-17|   4|2011|     04|\n",
      "|2011-11-04|  45|2011|     45|\n",
      "|2011-02-27|  10|2011|     10|\n",
      "|2011-07-29|  31|2011|     31|\n",
      "|2011-08-14|  34|2011|     34|\n",
      "|2011-04-13|  16|2011|     16|\n",
      "+----------+----+----+-------+\n",
      "only showing top 20 rows\n",
      "\n"
     ]
    }
   ],
   "source": [
    "df.withColumn('newweek',dd(col('week'))).show()"
   ]
  },
  {
   "cell_type": "code",
   "execution_count": 2,
   "metadata": {},
   "outputs": [],
   "source": []
  },
  {
   "cell_type": "code",
   "execution_count": null,
   "metadata": {},
   "outputs": [],
   "source": []
  }
 ],
 "metadata": {
  "kernelspec": {
   "display_name": "Python 3",
   "language": "python",
   "name": "python3"
  },
  "language_info": {
   "codemirror_mode": {
    "name": "ipython",
    "version": 3
   },
   "file_extension": ".py",
   "mimetype": "text/x-python",
   "name": "python",
   "nbconvert_exporter": "python",
   "pygments_lexer": "ipython3",
   "version": "3.7.1"
  },
  "varInspector": {
   "cols": {
    "lenName": 16,
    "lenType": 16,
    "lenVar": 40
   },
   "kernels_config": {
    "python": {
     "delete_cmd_postfix": "",
     "delete_cmd_prefix": "del ",
     "library": "var_list.py",
     "varRefreshCmd": "print(var_dic_list())"
    },
    "r": {
     "delete_cmd_postfix": ") ",
     "delete_cmd_prefix": "rm(",
     "library": "var_list.r",
     "varRefreshCmd": "cat(var_dic_list()) "
    }
   },
   "types_to_exclude": [
    "module",
    "function",
    "builtin_function_or_method",
    "instance",
    "_Feature"
   ],
   "window_display": false
  }
 },
 "nbformat": 4,
 "nbformat_minor": 2
}
