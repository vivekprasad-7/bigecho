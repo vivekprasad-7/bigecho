{
 "cells": [
  {
   "cell_type": "code",
   "execution_count": 1,
   "metadata": {},
   "outputs": [],
   "source": [
    "#eggs (BDA server)\n",
    "\n",
    "egg = \"/nfs/science/shared/lib/mercury/tesco_uk/test/dunnhumby-1.0-py2.7_uat_r0.egg\"\n",
    "sc.addPyFile(egg)\n",
    "egg = \"/nfs/science/shared/lib/mercury/tesco_uk/test/tesco_uk-1.0-py2.7_uat_r0.egg\" \n",
    "sc.addPyFile(egg)\n",
    "egg = \"/nfs/science/shared/lib/analyst_solutions/eggs/core_modules.egg\"\n",
    "sc.addPyFile(egg)\n",
    "#sc.addPyFile(\"core_modules_v1.8.egg\")"
   ]
  },
  {
   "cell_type": "code",
   "execution_count": null,
   "metadata": {},
   "outputs": [],
   "source": [
    "# #eggs (GCP)\n",
    "\n",
    "# egg = \"gs://tesco-uk-dataplatform-artif/lib/python/dunnhumby-1.0-py2.7.egg\"  \n",
    "# sc.addPyFile(egg)\n",
    "# egg = \"gs://tesco-uk-dataplatform-artif/lib/python/tesco_uk-1.0-py2.7.egg\"  \n",
    "# sc.addPyFile(egg)\n",
    "# egg='gs://tesco-uk-analystplatform-analyst/analyst_solutions/eggs/core_modules_beta_1.8.egg'\n",
    "# sc.addPyFile(egg)"
   ]
  },
  {
   "cell_type": "code",
   "execution_count": 2,
   "metadata": {},
   "outputs": [
    {
     "name": "stderr",
     "output_type": "stream",
     "text": [
      "2018-12-13 07:27:44,887 [dh.mercury.dunnhumby:] INFO [__init__.<module>:69]: Mercury version: build:\n"
     ]
    },
    {
     "name": "stdout",
     "output_type": "stream",
     "text": [
      "\n",
      "   __  ___\n",
      "  /  |/  /__ _dunnhumby ________ __\n",
      " / /|_/ / -_) __/ __/ // / __/ // /   Version 0.8.0rc78 (build notset)\n",
      "/_/  /_/\\__/_/  \\__/\\_,_/_/  \\_, /    Copyright (c) 2016 dunnhumby\n",
      "  Fluid data integration    /___/\n",
      "\n",
      "notset\n"
     ]
    },
    {
     "name": "stderr",
     "output_type": "stream",
     "text": [
      "07:27:49 [matplotlib.backends:90][pylab_setup][DEBUG]    backend module://ipykernel.pylab.backend_inline version unknown\n"
     ]
    },
    {
     "name": "stdout",
     "output_type": "stream",
     "text": [
      "\n",
      "    ___                __           __     _____       __      __  _ \n",
      "   /   |  ____  ____ _/ /_dunnhumby/ /_   / ___/____  / /_  __/ /_(_)___  ____  _____\n",
      "  / /| | / __ \\/ __ `/ / / / / ___/ __/   \\__ \\/ __ \\/ / / / / __/ / __ \\/ __ \\/ ___/\n",
      " / ___ |/ / / / /_/ / / /_/ (__  ) /_    ___/ / /_/ / / /_/ / /_/ / /_/ / / / (__  )\n",
      "/_/  |_/_/ /_/\\__,_/_/\\__, /____/\\__/   /____/\\____/_/\\__,_/\\__/_/\\____/_/ /_/____/\n",
      "   Copyright(c) 2017 /____/ __  ___          __ Version 1.8 Release 2018-10-31\n",
      "  / ____/___  ________     /  |/  /___  ____/ /_  __/ /__  _____\n",
      " / /   / __ \\/ ___/ _ \\   / /|_/ / __ \\/ __  / / / / / _ \\/ ___/\n",
      "/ /___/ /_/ / /  /  __/  / /  / / /_/ / /_/ / /_/ / /  __(__  )\n",
      "\\____/\\____/_/   \\___/  /_/  /_/\\____/\\__,_/\\__,_/_/\\___/____/\n",
      "    Wiki:    https://dhgitlab.dunnhumby.co.uk/global-migration/analyst-solutions/wikis/home\n",
      "    Contact: globalmigration@dunnhumby.com\n",
      "\n"
     ]
    }
   ],
   "source": [
    "import dunnhumby\n",
    "import tesco_uk\n",
    "import core_modules"
   ]
  },
  {
   "cell_type": "code",
   "execution_count": 3,
   "metadata": {},
   "outputs": [],
   "source": [
    "client = tesco_uk.client.Client('dev',sc,sqlContext)"
   ]
  },
  {
   "cell_type": "code",
   "execution_count": 4,
   "metadata": {},
   "outputs": [],
   "source": [
    "client.setConfig('subjectSource','mart')"
   ]
  },
  {
   "cell_type": "code",
   "execution_count": 5,
   "metadata": {},
   "outputs": [
    {
     "data": {
      "text/plain": [
       "'mart'"
      ]
     },
     "execution_count": 5,
     "metadata": {},
     "output_type": "execute_result"
    }
   ],
   "source": [
    "client.getConfig('subjectSource')"
   ]
  },
  {
   "cell_type": "code",
   "execution_count": null,
   "metadata": {},
   "outputs": [],
   "source": []
  },
  {
   "cell_type": "markdown",
   "metadata": {},
   "source": [
    "Import lifestyle_utils module"
   ]
  },
  {
   "cell_type": "code",
   "execution_count": 6,
   "metadata": {},
   "outputs": [
    {
     "name": "stderr",
     "output_type": "stream",
     "text": [
      "07:27:51 [matplotlib.backends:90][pylab_setup][DEBUG]    backend agg version v2.2\n",
      "07:27:51 [matplotlib.backends:90][pylab_setup][DEBUG]    backend agg version v2.2\n"
     ]
    },
    {
     "data": {
      "text/plain": [
       "<module 'lifestyle_utils' from 'lifestyle_utils.pyc'>"
      ]
     },
     "execution_count": 6,
     "metadata": {},
     "output_type": "execute_result"
    }
   ],
   "source": [
    "import lifestyle_utils as lsu\n",
    "reload(lsu)"
   ]
  },
  {
   "cell_type": "code",
   "execution_count": 7,
   "metadata": {},
   "outputs": [],
   "source": [
    "#Create LifeStyleUtils class object\n",
    "lsu_object = lsu.LifeStyleUtils(client=client)"
   ]
  },
  {
   "cell_type": "code",
   "execution_count": null,
   "metadata": {},
   "outputs": [],
   "source": []
  },
  {
   "cell_type": "markdown",
   "metadata": {},
   "source": [
    "rolling_ball method"
   ]
  },
  {
   "cell_type": "code",
   "execution_count": 36,
   "metadata": {},
   "outputs": [],
   "source": [
    "#Fetching transactions (creating custom transaction dataframe)\n",
    "custom_transactions = sqlContext.sql(\"select * from tesco_uk_easl.transaction_item_mft where fis_week_id = 201816\")"
   ]
  },
  {
   "cell_type": "code",
   "execution_count": 37,
   "metadata": {},
   "outputs": [
    {
     "name": "stderr",
     "output_type": "stream",
     "text": [
      "09:02:09 [lifestyle_utils:72][rolling_ball][INFO]    Dimension creation using rolling ball/triangulation method\n"
     ]
    }
   ],
   "source": [
    "rolling_ball_df = lsu_object.rolling_ball(seed_file='seed_list.csv',\n",
    "                                          fis_week_id=None,\n",
    "                                          nweeks=None,\n",
    "                                          product_filter=None,\n",
    "                                          filter_level='prod_merch_l10_code',\n",
    "                                          #product_filter = ['H71CU','H71CX'],\n",
    "                                          measure='card_code',\n",
    "                                          transactions=custom_transactions,\n",
    "                                          prod_code_col = 'prod_group_code')"
   ]
  },
  {
   "cell_type": "code",
   "execution_count": 38,
   "metadata": {},
   "outputs": [],
   "source": [
    "for i in rolling_ball_df:\n",
    "    rolling_ball_df[i].toPandas().to_csv('{}.csv'.format(i),index=False)"
   ]
  },
  {
   "cell_type": "code",
   "execution_count": 39,
   "metadata": {},
   "outputs": [],
   "source": [
    "##rolling_ball method execution completed"
   ]
  },
  {
   "cell_type": "code",
   "execution_count": null,
   "metadata": {},
   "outputs": [],
   "source": []
  },
  {
   "cell_type": "markdown",
   "metadata": {},
   "source": [
    "optimal_cluster method"
   ]
  },
  {
   "cell_type": "code",
   "execution_count": 8,
   "metadata": {},
   "outputs": [
    {
     "name": "stdout",
     "output_type": "stream",
     "text": [
      "+---+-----------+---+-------------------+---+-----------+---+--------------------+------+\n",
      "|a  |b          |c  |d                  |e  |f          |g  |h                   |res   |\n",
      "+---+-----------+---+-------------------+---+-----------+---+--------------------+------+\n",
      "|5.1|0.222222222|3.5|0.625              |1.4|0.06779661 |0.2|0.041666667000000004|setosa|\n",
      "|4.9|0.166666667|3.0|0.41666666700000005|1.4|0.06779661 |0.2|0.041666667000000004|setosa|\n",
      "|4.7|0.111111111|3.2|0.5                |1.3|0.050847458|0.2|0.041666667000000004|setosa|\n",
      "|4.6|0.083333333|3.1|0.45833333299999995|1.5|0.084745763|0.2|0.041666667000000004|setosa|\n",
      "|5.0|0.194444444|3.6|0.666666667        |1.4|0.06779661 |0.2|0.041666667000000004|setosa|\n",
      "+---+-----------+---+-------------------+---+-----------+---+--------------------+------+\n",
      "only showing top 5 rows\n",
      "\n"
     ]
    }
   ],
   "source": [
    "import pandas as pd\n",
    "\n",
    "df_pd = pd.read_csv(\"iris.csv\")\n",
    "df_ps = sqlContext.createDataFrame(df_pd)\n",
    "df_ps.show(5,False)"
   ]
  },
  {
   "cell_type": "code",
   "execution_count": 9,
   "metadata": {},
   "outputs": [
    {
     "name": "stderr",
     "output_type": "stream",
     "text": [
      "07:28:15 [matplotlib.backends:90][pylab_setup][DEBUG]    backend module://ipykernel.pylab.backend_inline version unknown\n"
     ]
    }
   ],
   "source": [
    "%matplotlib inline"
   ]
  },
  {
   "cell_type": "code",
   "execution_count": 11,
   "metadata": {},
   "outputs": [
    {
     "name": "stdout",
     "output_type": "stream",
     "text": [
      "Creating 2 clusters\n",
      "Creating 3 clusters\n",
      "Creating 4 clusters\n",
      "Creating 5 clusters\n",
      "Creating 6 clusters\n",
      "Creating 7 clusters\n",
      "Creating 8 clusters\n",
      "Creating 9 clusters\n",
      "Creating 10 clusters\n"
     ]
    },
    {
     "name": "stderr",
     "output_type": "stream",
     "text": [
      "07:28:56 [matplotlib.font_manager:1343][findfont][DEBUG]    findfont: Matching :family=sans-serif:style=normal:variant=normal:weight=normal:stretch=normal:size=10.0 to DejaVu Sans (u'/usr/lib64/python2.7/site-packages/matplotlib/mpl-data/fonts/ttf/DejaVuSans.ttf') with score of 0.050000\n"
     ]
    },
    {
     "data": {
      "image/png": "[encoded data removed]",
      "text/plain": [
       "<Figure size 432x288 with 1 Axes>"
      ]
     },
     "metadata": {
      "needs_background": "light"
     },
     "output_type": "display_data"
    },
    {
     "name": "stderr",
     "output_type": "stream",
     "text": [
      "07:28:56 [lifestyle_utils:110][optimal_cluster][INFO]    Elbow method to get optimal clusters\n"
     ]
    },
    {
     "data": {
      "text/plain": [
       "<Figure size 432x288 with 0 Axes>"
      ]
     },
     "metadata": {},
     "output_type": "display_data"
    }
   ],
   "source": [
    "# centres,statistics = lsu_object.optimal_cluster(dataframe=df_ps,\n",
    "#                                                 features=['a', 'b', 'c', 'd', 'e', 'f', 'g', 'h'],\n",
    "#                                                 observation='res',\n",
    "#                                                 start=2,\n",
    "#                                                 end=10,\n",
    "#                                                 show='Y')\n",
    "\n",
    "centres,statistics = lsu_object.optimal_cluster(dataframe=df_ps,\n",
    "                                                features=['a', 'b', 'c', 'd', 'e', 'f', 'g', 'h'],\n",
    "                                                observation='res',\n",
    "                                                start=2,\n",
    "                                                end=10,\n",
    "                                                show='Y',\n",
    "                                                file_name='ls_test.png')\n",
    "\n",
    "#features=df_ps.columns[:-1]\n",
    "#observation=df_ps.columns[-1]"
   ]
  },
  {
   "cell_type": "code",
   "execution_count": 12,
   "metadata": {},
   "outputs": [
    {
     "data": {
      "text/plain": [
       "{2: [array([6.35074627, 0.56965025, 2.86119403, 0.3589801 , 4.99253731,\n",
       "         0.67669975, 1.6761194 , 0.65671343]),\n",
       "  array([5.02727273, 0.20232323, 3.40606061, 0.58585556, 1.53333333,\n",
       "         0.09069851, 0.27272727, 0.07287879])],\n",
       " 3: [array([5.03125   , 0.2034375 , 3.4375    , 0.59895521, 1.478125  ,\n",
       "         0.08135064, 0.25      , 0.0634375 ]),\n",
       "  array([5.95238095, 0.45899471, 2.72857143, 0.30380952, 4.42619048,\n",
       "         0.58071025, 1.4452381 , 0.56051587]),\n",
       "  array([6.93846154, 0.73290214, 3.05769231, 0.44070513, 5.84230769,\n",
       "         0.82072627, 2.02307692, 0.80127436])],\n",
       " 4: [array([6.3       , 0.55555556, 2.86470588, 0.36029412, 4.90882353,\n",
       "         0.66251246, 1.68529412, 0.66053922]),\n",
       "  array([5.03125   , 0.2034375 , 3.4375    , 0.59895521, 1.478125  ,\n",
       "         0.08135064, 0.25      , 0.0634375 ]),\n",
       "  array([5.54705882, 0.34640523, 2.58235294, 0.24323529, 3.93529412,\n",
       "         0.49750748, 1.21764706, 0.46568627]),\n",
       "  array([7.17058824, 0.79737974, 3.10588235, 0.46078431, 6.11764706,\n",
       "         0.86739192, 2.07647059, 0.82351765])],\n",
       " 5: [array([5.54705882, 0.34640523, 2.58235294, 0.24323529, 3.93529412,\n",
       "         0.49750748, 1.21764706, 0.46568627]),\n",
       "  array([5.41818182, 0.31060606, 3.77272727, 0.73862727, 1.50909091,\n",
       "         0.0862866 , 0.30909091, 0.08712121]),\n",
       "  array([4.82857143, 0.14730159, 3.26190476, 0.52579365, 1.46190476,\n",
       "         0.07876513, 0.21904762, 0.05103175]),\n",
       "  array([6.3       , 0.55555556, 2.86470588, 0.36029412, 4.90882353,\n",
       "         0.66251246, 1.68529412, 0.66053922]),\n",
       "  array([7.17058824, 0.79737974, 3.10588235, 0.46078431, 6.11764706,\n",
       "         0.86739192, 2.07647059, 0.82351765])],\n",
       " 6: [array([6.14444444, 0.51234568, 2.82222222, 0.34259259, 5.15      ,\n",
       "         0.70338983, 1.9       , 0.75      ]),\n",
       "  array([7.17058824, 0.79737974, 3.10588235, 0.46078431, 6.11764706,\n",
       "         0.86739192, 2.07647059, 0.82351765]),\n",
       "  array([4.76470588, 0.1296732 , 3.20588235, 0.50245098, 1.47647059,\n",
       "         0.08134596, 0.21764706, 0.05078431]),\n",
       "  array([5.33333333, 0.28703704, 3.7       , 0.70832667, 1.48      ,\n",
       "         0.08135593, 0.28666667, 0.07777778]),\n",
       "  array([5.54705882, 0.34640523, 2.58235294, 0.24323529, 3.93529412,\n",
       "         0.49750748, 1.21764706, 0.46568627]),\n",
       "  array([6.475     , 0.60416667, 2.9125    , 0.38020833, 4.6375    ,\n",
       "         0.61652542, 1.44375   , 0.55989583])],\n",
       " 7: [array([6.44375   , 0.59548611, 2.98125   , 0.40885417, 4.5625    ,\n",
       "         0.60381356, 1.43125   , 0.5546875 ]),\n",
       "  array([4.82857143, 0.14730159, 3.26190476, 0.52579365, 1.46190476,\n",
       "         0.07876513, 0.21904762, 0.05103175]),\n",
       "  array([6.52307692, 0.61752137, 2.99230769, 0.41346154, 5.57692308,\n",
       "         0.77574967, 2.08461538, 0.82691538]),\n",
       "  array([7.45454545, 0.87625354, 3.13636364, 0.47348485, 6.31818182,\n",
       "         0.90137766, 2.02727273, 0.80302121]),\n",
       "  array([5.96666667, 0.46296296, 2.71333333, 0.29722222, 4.87333333,\n",
       "         0.65649718, 1.72666667, 0.67777778]),\n",
       "  array([5.41818182, 0.31060606, 3.77272727, 0.73862727, 1.50909091,\n",
       "         0.0862866 , 0.30909091, 0.08712121]),\n",
       "  array([5.46153846, 0.32264957, 2.48461538, 0.20269231, 3.82307692,\n",
       "         0.47848761, 1.16153846, 0.44230769])],\n",
       " 8: [array([5.31875   , 0.28298611, 3.675     , 0.69791042, 1.49375   ,\n",
       "         0.08368644, 0.3       , 0.08333333]),\n",
       "  array([7.52222222, 0.89505062, 3.16666667, 0.48611111, 6.42222222,\n",
       "         0.9190096 , 2.06666667, 0.81943333]),\n",
       "  array([5.71      , 0.39166667, 2.55      , 0.22916667, 3.85      ,\n",
       "         0.48305085, 1.13      , 0.42916667]),\n",
       "  array([4.74375   , 0.12388889, 3.2       , 0.5       , 1.4625    ,\n",
       "         0.07901483, 0.2       , 0.04354167]),\n",
       "  array([6.60666667, 0.64074074, 2.99333333, 0.41388889, 5.61333333,\n",
       "         0.7819209 , 2.05333333, 0.81388222]),\n",
       "  array([5.        , 0.19444444, 2.4       , 0.16916667, 3.8       ,\n",
       "         0.47457627, 1.275     , 0.48958333]),\n",
       "  array([6.43333333, 0.59259259, 2.91111111, 0.37962963, 4.63888889,\n",
       "         0.61676083, 1.45      , 0.5625    ]),\n",
       "  array([5.89166667, 0.44212963, 2.76666667, 0.31944444, 4.88333333,\n",
       "         0.65819209, 1.78333333, 0.70138889])],\n",
       " 9: [array([6.44375   , 0.59548611, 2.98125   , 0.40885417, 4.5625    ,\n",
       "         0.60381356, 1.43125   , 0.5546875 ]),\n",
       "  array([5.3       , 0.27777778, 3.65882353, 0.69117059, 1.5       ,\n",
       "         0.08474576, 0.30588235, 0.08578431]),\n",
       "  array([6.50833333, 0.61342593, 3.03333333, 0.43055556, 5.55833333,\n",
       "         0.77259887, 2.10833333, 0.83679722]),\n",
       "  array([5.46153846, 0.32264957, 2.48461538, 0.20269231, 3.82307692,\n",
       "         0.47848761, 1.16153846, 0.44230769]),\n",
       "  array([5.96666667, 0.46296296, 2.71333333, 0.29722222, 4.87333333,\n",
       "         0.65649718, 1.72666667, 0.67777778]),\n",
       "  array([7.66666667, 0.93518519, 2.8       , 0.33333333, 6.73333333,\n",
       "         0.97171808, 2.13333333, 0.84722222]),\n",
       "  array([7.15      , 0.79166667, 2.9       , 0.375     , 5.98333333,\n",
       "         0.84463277, 1.83333333, 0.72222222]),\n",
       "  array([7.6       , 0.91663333, 3.73333333, 0.72222222, 6.4       ,\n",
       "         0.91525424, 2.23333333, 0.88885556]),\n",
       "  array([4.72666667, 0.11918519, 3.18666667, 0.49444444, 1.45333333,\n",
       "         0.07750282, 0.18666667, 0.03811111])],\n",
       " 10: [array([5.03125   , 0.2034375 , 3.4375    , 0.59895521, 1.478125  ,\n",
       "         0.08135064, 0.25      , 0.0634375 ]),\n",
       "  array([7.6       , 0.91663333, 3.73333333, 0.72222222, 6.4       ,\n",
       "         0.91525424, 2.23333333, 0.88885556]),\n",
       "  array([6.65      , 0.65277778, 3.04      , 0.43333333, 4.66      ,\n",
       "         0.62033898, 1.47      , 0.57083333]),\n",
       "  array([5.43333333, 0.31481481, 2.46666667, 0.19527778, 3.8       ,\n",
       "         0.47457627, 1.175     , 0.44791667]),\n",
       "  array([6.54166667, 0.62268519, 2.96666667, 0.40277778, 5.54166667,\n",
       "         0.76977401, 2.05      , 0.8125    ]),\n",
       "  array([6.3       , 0.55555556, 3.3       , 0.54166667, 6.        ,\n",
       "         0.84745763, 2.5       , 0.9999    ]),\n",
       "  array([6.18571429, 0.52380952, 2.55714286, 0.23214286, 4.9       ,\n",
       "         0.66101695, 1.6       , 0.625     ]),\n",
       "  array([7.4       , 0.86111111, 2.9125    , 0.38020833, 6.2875    ,\n",
       "         0.89617394, 1.95      , 0.77083333]),\n",
       "  array([5.81666667, 0.4212963 , 2.83333333, 0.34722222, 4.96666667,\n",
       "         0.67231638, 1.98333333, 0.78472222]),\n",
       "  array([5.96666667, 0.46296296, 2.86666667, 0.36111111, 4.38888889,\n",
       "         0.57438795, 1.33333333, 0.51388889])]}"
      ]
     },
     "execution_count": 12,
     "metadata": {},
     "output_type": "execute_result"
    }
   ],
   "source": [
    "centres"
   ]
  },
  {
   "cell_type": "code",
   "execution_count": 13,
   "metadata": {},
   "outputs": [
    {
     "data": {
      "text/plain": [
       "{2: 0.7607853570935202,\n",
       " 3: 0.8783025129358772,\n",
       " 4: 0.9149056615777825,\n",
       " 5: 0.9251073099510887,\n",
       " 6: 0.9364176566886907,\n",
       " 7: 0.948722381044924,\n",
       " 8: 0.9518579815346031,\n",
       " 9: 0.9562611449523923,\n",
       " 10: 0.9512583196233058}"
      ]
     },
     "execution_count": 13,
     "metadata": {},
     "output_type": "execute_result"
    }
   ],
   "source": [
    "statistics"
   ]
  },
  {
   "cell_type": "code",
   "execution_count": 14,
   "metadata": {},
   "outputs": [],
   "source": [
    "##optimal_cluster method execution completed"
   ]
  },
  {
   "cell_type": "code",
   "execution_count": null,
   "metadata": {},
   "outputs": [],
   "source": []
  },
  {
   "cell_type": "markdown",
   "metadata": {},
   "source": [
    "get_cluster testing without predefined centers"
   ]
  },
  {
   "cell_type": "code",
   "execution_count": 15,
   "metadata": {},
   "outputs": [
    {
     "name": "stdout",
     "output_type": "stream",
     "text": [
      "Creating 3 clusters\n"
     ]
    },
    {
     "name": "stderr",
     "output_type": "stream",
     "text": [
      "07:31:00 [lifestyle_utils:147][get_cluster][INFO]    Assign a cluster to each observation\n"
     ]
    }
   ],
   "source": [
    "centres,cluster_df = lsu_object.get_cluster(dataframe=df_ps,\n",
    "                                            features=['a', 'b', 'c', 'd', 'e', 'f', 'g', 'h'],\n",
    "                                            observation='res',\n",
    "                                            k=3,\n",
    "                                            centres=None)"
   ]
  },
  {
   "cell_type": "code",
   "execution_count": 16,
   "metadata": {},
   "outputs": [
    {
     "data": {
      "text/plain": [
       "[array([5.99090909, 0.46969697, 2.74318182, 0.30988636, 4.45      ,\n",
       "        0.58474576, 1.45227273, 0.56344697]),\n",
       " array([5.03125   , 0.2034375 , 3.4375    , 0.59895521, 1.478125  ,\n",
       "        0.08135064, 0.25      , 0.0634375 ]),\n",
       " array([6.95      , 0.73610694, 3.05833333, 0.44097222, 5.91666667,\n",
       "        0.83332917, 2.05833333, 0.81596389])]"
      ]
     },
     "execution_count": 16,
     "metadata": {},
     "output_type": "execute_result"
    }
   ],
   "source": [
    "centres"
   ]
  },
  {
   "cell_type": "code",
   "execution_count": 17,
   "metadata": {},
   "outputs": [
    {
     "name": "stdout",
     "output_type": "stream",
     "text": [
      "+------+-------+\n",
      "|res   |cluster|\n",
      "+------+-------+\n",
      "|setosa|1      |\n",
      "|setosa|1      |\n",
      "|setosa|1      |\n",
      "|setosa|1      |\n",
      "|setosa|1      |\n",
      "+------+-------+\n",
      "only showing top 5 rows\n",
      "\n"
     ]
    }
   ],
   "source": [
    "cluster_df.show(5,False)"
   ]
  },
  {
   "cell_type": "code",
   "execution_count": 18,
   "metadata": {},
   "outputs": [],
   "source": [
    "####get_cluster method execution completed"
   ]
  },
  {
   "cell_type": "code",
   "execution_count": null,
   "metadata": {},
   "outputs": [],
   "source": []
  },
  {
   "cell_type": "markdown",
   "metadata": {},
   "source": [
    "get_cluster testing with predefined centers"
   ]
  },
  {
   "cell_type": "code",
   "execution_count": 19,
   "metadata": {},
   "outputs": [],
   "source": [
    "import numpy as np"
   ]
  },
  {
   "cell_type": "code",
   "execution_count": 20,
   "metadata": {},
   "outputs": [],
   "source": [
    "cent = [np.array([ 5.03125   ,  0.2034375 ,  3.4375    ,  0.59895521,  1.478125  ,\n",
    "          0.08135064,  0.25      ,  0.0634375 ]),\n",
    "  np.array([ 6.95      ,  0.73610694,  3.05833333,  0.44097222,  5.91666667,\n",
    "          0.83332917,  2.05833333,  0.81596389]),\n",
    "  np.array([ 5.99090909,  0.46969697,  2.74318182,  0.30988636,  4.45      ,\n",
    "          0.58474576,  1.45227273,  0.56344697])]"
   ]
  },
  {
   "cell_type": "code",
   "execution_count": 21,
   "metadata": {},
   "outputs": [
    {
     "name": "stderr",
     "output_type": "stream",
     "text": [
      "08:32:28 [lifestyle_utils:147][get_cluster][INFO]    Assign a cluster to each observation\n"
     ]
    }
   ],
   "source": [
    "centres,cluster_df = lsu_object.get_cluster(dataframe=df_ps,\n",
    "                                            features=['a', 'b', 'c', 'd', 'e', 'f', 'g', 'h'],\n",
    "                                            observation='res',\n",
    "                                            k=3,\n",
    "                                            centres=cent)"
   ]
  },
  {
   "cell_type": "code",
   "execution_count": 22,
   "metadata": {},
   "outputs": [
    {
     "data": {
      "text/plain": [
       "[array([5.03125   , 0.2034375 , 3.4375    , 0.59895521, 1.478125  ,\n",
       "        0.08135064, 0.25      , 0.0634375 ]),\n",
       " array([6.95      , 0.73610694, 3.05833333, 0.44097222, 5.91666667,\n",
       "        0.83332917, 2.05833333, 0.81596389]),\n",
       " array([5.99090909, 0.46969697, 2.74318182, 0.30988636, 4.45      ,\n",
       "        0.58474576, 1.45227273, 0.56344697])]"
      ]
     },
     "execution_count": 22,
     "metadata": {},
     "output_type": "execute_result"
    }
   ],
   "source": [
    "centres"
   ]
  },
  {
   "cell_type": "code",
   "execution_count": 23,
   "metadata": {},
   "outputs": [
    {
     "name": "stdout",
     "output_type": "stream",
     "text": [
      "+------+-------+\n",
      "|res   |cluster|\n",
      "+------+-------+\n",
      "|setosa|0      |\n",
      "|setosa|0      |\n",
      "|setosa|0      |\n",
      "|setosa|0      |\n",
      "|setosa|0      |\n",
      "+------+-------+\n",
      "only showing top 5 rows\n",
      "\n"
     ]
    }
   ],
   "source": [
    "cluster_df.show(5,False)"
   ]
  },
  {
   "cell_type": "code",
   "execution_count": null,
   "metadata": {},
   "outputs": [],
   "source": [
    "# #create numpy array from dataframe\n",
    "\n",
    "# centers_df\n",
    "\n",
    "# +----------+----------+----------+----------+----------+----------+----------+----------+\n",
    "# |a         |b         |c         |d         |e         |f         |g         |h         |\n",
    "# +----------+----------+----------+----------+----------+----------+----------+----------+\n",
    "# |5.03125   |0.2034375 |3.4375    |0.59895521|1.478125  |0.08135064|0.25      |0.0634375 |\n",
    "# |6.95      |0.73610694|3.05833333|0.44097222|5.91666667|0.83332917|2.05833333|0.81596389|\n",
    "# |5.99090909|0.46969697|2.74318182|0.30988636|4.45      |0.58474576|1.45227273|0.56344697|\n",
    "# +----------+----------+----------+----------+----------+----------+----------+----------+\n",
    "\n",
    "# import numpy as np\n",
    "# c_new = np.array(centers_df.select('a', 'b', 'c','d', 'e', 'f','g', 'h').collect())\n",
    "\n",
    "# array([[ 5.03125   ,  0.2034375 ,  3.4375    ,  0.59895521,  1.478125  ,\n",
    "#          0.08135064,  0.25      ,  0.0634375 ],\n",
    "#        [ 6.95      ,  0.73610694,  3.05833333,  0.44097222,  5.91666667,\n",
    "#          0.83332917,  2.05833333,  0.81596389],\n",
    "#        [ 5.99090909,  0.46969697,  2.74318182,  0.30988636,  4.45      ,\n",
    "#          0.58474576,  1.45227273,  0.56344697]])\n",
    "\n",
    "# final_df = kmeansmodel.get_cluster(k=3,\n",
    "#                                    centres=c_new,\n",
    "#                                    max_iteration=100,\n",
    "#                                    seed=None)"
   ]
  },
  {
   "cell_type": "code",
   "execution_count": 24,
   "metadata": {},
   "outputs": [],
   "source": [
    "####get_cluster method execution completed"
   ]
  },
  {
   "cell_type": "code",
   "execution_count": null,
   "metadata": {},
   "outputs": [],
   "source": []
  },
  {
   "cell_type": "markdown",
   "metadata": {},
   "source": [
    "dim_reduction_pca method"
   ]
  },
  {
   "cell_type": "code",
   "execution_count": 25,
   "metadata": {},
   "outputs": [
    {
     "name": "stderr",
     "output_type": "stream",
     "text": [
      "08:34:19 [lifestyle_utils:185][dim_reduction_pca][INFO]    Principal component analysis for dimensions reduction\n"
     ]
    }
   ],
   "source": [
    "variance,pca_df = lsu_object.dim_reduction_pca(dataframe=df_ps,\n",
    "                                              features=['a', 'b', 'c', 'd', 'e', 'f', 'g', 'h'],\n",
    "                                              k=5)"
   ]
  },
  {
   "cell_type": "code",
   "execution_count": 26,
   "metadata": {},
   "outputs": [
    {
     "data": {
      "text/plain": [
       "[0.9186894202647183,\n",
       " 0.05934789521319101,\n",
       " 0.018306572640711668,\n",
       " 0.003655120764797586,\n",
       " 5.367588024330234e-07]"
      ]
     },
     "execution_count": 26,
     "metadata": {},
     "output_type": "execute_result"
    }
   ],
   "source": [
    "variance"
   ]
  },
  {
   "cell_type": "code",
   "execution_count": 27,
   "metadata": {},
   "outputs": [
    {
     "name": "stdout",
     "output_type": "stream",
     "text": [
      "+-------------------+------------------+-------------------+--------------------+-------------------+\n",
      "|pc_1               |pc_2              |pc_3               |pc_4                |pc_5               |\n",
      "+-------------------+------------------+-------------------+--------------------+-------------------+\n",
      "|-2.796887562557044 |-5.542987160534471|0.4556894262344484 |0.11137021065022061 |0.4590199835905519 |\n",
      "|-2.768345262575425 |-5.012615456447451|0.6649150918343851 |0.21435010314442696 |0.4592054484200197 |\n",
      "|-2.5852387325206614|-5.050392172000156|0.42801440445758177|0.11821949292437468 |0.4592056740031088 |\n",
      "|-2.7282323899519487|-4.870443928039159|0.4260051328596479 |0.014180057741036266|0.45930449911761523|\n",
      "|-2.74832461996988  |-5.553631667752375|0.3347498823821098 |0.03781974691316485 |0.45903043533184545|\n",
      "+-------------------+------------------+-------------------+--------------------+-------------------+\n",
      "only showing top 5 rows\n",
      "\n"
     ]
    }
   ],
   "source": [
    "pca_df.show(5,False)"
   ]
  },
  {
   "cell_type": "code",
   "execution_count": 28,
   "metadata": {},
   "outputs": [],
   "source": [
    "##dim_reduction_pca method execution completed"
   ]
  },
  {
   "cell_type": "code",
   "execution_count": null,
   "metadata": {},
   "outputs": [],
   "source": []
  },
  {
   "cell_type": "markdown",
   "metadata": {},
   "source": [
    "feature_standard method execution"
   ]
  },
  {
   "cell_type": "code",
   "execution_count": 29,
   "metadata": {},
   "outputs": [
    {
     "name": "stdout",
     "output_type": "stream",
     "text": [
      "+---+-----------+---+-------------------+---+-----------+---+--------------------+------+\n",
      "|a  |b          |c  |d                  |e  |f          |g  |h                   |res   |\n",
      "+---+-----------+---+-------------------+---+-----------+---+--------------------+------+\n",
      "|5.1|0.222222222|3.5|0.625              |1.4|0.06779661 |0.2|0.041666667000000004|setosa|\n",
      "|4.9|0.166666667|3.0|0.41666666700000005|1.4|0.06779661 |0.2|0.041666667000000004|setosa|\n",
      "|4.7|0.111111111|3.2|0.5                |1.3|0.050847458|0.2|0.041666667000000004|setosa|\n",
      "|4.6|0.083333333|3.1|0.45833333299999995|1.5|0.084745763|0.2|0.041666667000000004|setosa|\n",
      "|5.0|0.194444444|3.6|0.666666667        |1.4|0.06779661 |0.2|0.041666667000000004|setosa|\n",
      "+---+-----------+---+-------------------+---+-----------+---+--------------------+------+\n",
      "only showing top 5 rows\n",
      "\n"
     ]
    }
   ],
   "source": [
    "df_ps.show(5,False)"
   ]
  },
  {
   "cell_type": "code",
   "execution_count": 30,
   "metadata": {},
   "outputs": [
    {
     "name": "stderr",
     "output_type": "stream",
     "text": [
      "08:35:52 [lifestyle_utils:223][feature_standard][INFO]    Normalizing each feature to have unit standard deviation and/or zero mean\n"
     ]
    }
   ],
   "source": [
    "mean,std,scaled_df = lsu_object.feature_standard(dataframe=df_ps,\n",
    "                                                 features=['a', 'b', 'c', 'd', 'e', 'f', 'g', 'h'],\n",
    "                                                 std_flag=True,\n",
    "                                                 mean_flag=True)"
   ]
  },
  {
   "cell_type": "code",
   "execution_count": 31,
   "metadata": {},
   "outputs": [
    {
     "data": {
      "text/plain": [
       "[5.914,\n",
       " 0.44843233332999993,\n",
       " 3.0409999999999995,\n",
       " 0.43384899998999993,\n",
       " 3.851,\n",
       " 0.48331933899,\n",
       " 1.213,\n",
       " 0.4640480000199999]"
      ]
     },
     "execution_count": 31,
     "metadata": {},
     "output_type": "execute_result"
    }
   ],
   "source": [
    "mean"
   ]
  },
  {
   "cell_type": "code",
   "execution_count": 32,
   "metadata": {},
   "outputs": [
    {
     "data": {
      "text/plain": [
       "[0.8564691436002786,\n",
       " 0.2377174274551388,\n",
       " 0.439488913455738,\n",
       " 0.1828805727798637,\n",
       " 1.7853780404930337,\n",
       " 0.3024450331858343,\n",
       " 0.7455802431595805,\n",
       " 0.31020698975736466]"
      ]
     },
     "execution_count": 32,
     "metadata": {},
     "output_type": "execute_result"
    }
   ],
   "source": [
    "std"
   ]
  },
  {
   "cell_type": "code",
   "execution_count": 33,
   "metadata": {},
   "outputs": [
    {
     "name": "stdout",
     "output_type": "stream",
     "text": [
      "+-------------------+-------------------+--------------------+--------------------+-------------------+-------------------+-------------------+------------------+\n",
      "|a                  |b                  |c                   |d                   |e                  |f                  |g                  |h                 |\n",
      "+-------------------+-------------------+--------------------+--------------------+-------------------+-------------------+-------------------+------------------+\n",
      "|-0.950413691003795 |-0.9515924589613419|1.0443949459176234  |1.0452231043703675  |-1.3728184980493847|-1.3738785015348103|-1.3586733410573788|-1.361611269141211|\n",
      "|-1.183930568400304 |-1.1852966328401555|-0.09329018035429623|-0.09395384500836255|-1.3728184980493847|-1.3738785015348103|-1.3586733410573788|-1.361611269141211|\n",
      "|-1.417447445796814 |-1.4190008109256442|0.36178387015447205 |0.36171693364951946 |-1.4288290446854264|-1.429918939102802 |-1.3586733410573788|-1.361611269141211|\n",
      "|-1.5342058844950694|-1.5358528999683885|0.1342468449000879  |0.13388154158655338 |-1.3168079514133428|-1.3178380606604323|-1.3586733410573788|-1.361611269141211|\n",
      "|-1.0671721297020496|-1.0684445480040863|1.2719319711720076  |1.2730584964333334  |-1.3728184980493847|-1.3738785015348103|-1.3586733410573788|-1.361611269141211|\n",
      "+-------------------+-------------------+--------------------+--------------------+-------------------+-------------------+-------------------+------------------+\n",
      "only showing top 5 rows\n",
      "\n"
     ]
    }
   ],
   "source": [
    "scaled_df.show(5,False)"
   ]
  },
  {
   "cell_type": "code",
   "execution_count": 34,
   "metadata": {},
   "outputs": [],
   "source": [
    "##feature_standard method execution completed"
   ]
  },
  {
   "cell_type": "code",
   "execution_count": null,
   "metadata": {},
   "outputs": [],
   "source": []
  },
  {
   "cell_type": "code",
   "execution_count": 35,
   "metadata": {},
   "outputs": [],
   "source": [
    "##Ended"
   ]
  },
  {
   "cell_type": "code",
   "execution_count": null,
   "metadata": {},
   "outputs": [],
   "source": []
  }
 ],
 "metadata": {
  "kernelspec": {
   "display_name": "Python 3",
   "language": "python",
   "name": "python3"
  },
  "language_info": {
   "codemirror_mode": {
    "name": "ipython",
    "version": 3
   },
   "file_extension": ".py",
   "mimetype": "text/x-python",
   "name": "python",
   "nbconvert_exporter": "python",
   "pygments_lexer": "ipython3",
   "version": "3.7.1"
  }
 },
 "nbformat": 4,
 "nbformat_minor": 2
}
