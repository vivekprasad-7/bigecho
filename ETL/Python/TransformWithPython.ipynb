{
 "cells": [
  {
   "cell_type": "code",
   "execution_count": 10,
   "metadata": {},
   "outputs": [],
   "source": [
    "#Python Set | update()"
   ]
  },
  {
   "cell_type": "code",
   "execution_count": 22,
   "metadata": {},
   "outputs": [
    {
     "name": "stdout",
     "output_type": "stream",
     "text": [
      "{'a': 1, 'b': 6, 'c': 9, 'd': 10, 'e': 90}\n"
     ]
    }
   ],
   "source": [
    "dict1={'a':1,'b':6}\n",
    "dict2={'c':9,'d':10,'e':90}\n",
    "dict1.update(dict2) #returns NULL and update in 1st dict\n",
    "print(dict1)\n"
   ]
  },
  {
   "cell_type": "code",
   "execution_count": 9,
   "metadata": {},
   "outputs": [
    {
     "name": "stdout",
     "output_type": "stream",
     "text": [
      "{1, 2, 3, 5, 6, 7}\n",
      "{1, 2, 3, 5, 6, 7, 10, 11, 12}\n"
     ]
    }
   ],
   "source": [
    "list1 = [1, 2, 3]  \n",
    "list2 = [5, 6, 7]  \n",
    "list3 = [10, 11, 12] \n",
    "  \n",
    "# Lists converted to sets  \n",
    "set1 = set(list2)  \n",
    "set2 = set(list1) \n",
    "  \n",
    "# Update method  \n",
    "set1.update(set2) \n",
    "   \n",
    "# Print the updated set  \n",
    "print(set1)  \n",
    "  \n",
    "  \n",
    "# List is passed as an parameter which  \n",
    "# gets automatically converted to a set  \n",
    "set1.update(list3)  \n",
    "print(set1) "
   ]
  },
  {
   "cell_type": "code",
   "execution_count": 23,
   "metadata": {},
   "outputs": [
    {
     "name": "stdout",
     "output_type": "stream",
     "text": [
      "{'a': 1, 'b': 6, 'c': 1, 'd': 10}\n"
     ]
    }
   ],
   "source": [
    "dict1={'a':1,'b':6}\n",
    "dict2={'c':1,'d':10}\n",
    "dictf=dict1.copy()\n",
    "dictf.update(dict2)\n",
    "print(dictf)\n",
    "\n",
    "dict1={'a':1,'b':6}\n",
    "for i,j in dict1.items():\n",
    "    print('value of {0} is {1}:'.format(i,j))"
   ]
  },
  {
   "cell_type": "code",
   "execution_count": 24,
   "metadata": {},
   "outputs": [
    {
     "name": "stdout",
     "output_type": "stream",
     "text": [
      "{'cust': [{'id': '101', 'name': 'viv', 'edit': ''}, {'id': '102', 'name': '', 'edit': ''}], 'loc': [{'val': '1234', 'syn': '11', 'gh': ''}, {'val': '112', 'syn': '11', 'gh': ''}]}\n"
     ]
    }
   ],
   "source": [
    "sur={'customer':['id','name','edit'],\\\n",
    "\n",
    "'location':['val','gh','syn']\n",
    "\n",
    "}\n",
    "\n",
    "mapp={'cust':'customer','loc':'location'} \n",
    "\n",
    "coldict={'cust':[{'id':'101','name':'viv'},{'id':'102'}],\n",
    "\n",
    "         'loc':[{'val':'1234','syn':'11'},{'val':'112','syn':'11'}]\n",
    "\n",
    "}\n",
    "\n",
    "#solution approach \n",
    "#for each dict in every item of main dict, compare the keys to master, \n",
    "#if master has extra keys than append this key with null value in coldict.   \n",
    "\n",
    "a=[]\n",
    "for k in coldict.keys():\n",
    "    a.append(k)\n",
    "    \n",
    "for i in a:\n",
    "    for j in coldict[i]:\n",
    "        ls1=sur[mapp[i]]\n",
    "        ls2=j.keys()\n",
    "        for itr in ls1:\n",
    "            if itr not in ls2:\n",
    "                j[itr]=''\n",
    "print(coldict)                "
   ]
  },
  {
   "cell_type": "code",
   "execution_count": 34,
   "metadata": {},
   "outputs": [
    {
     "name": "stdout",
     "output_type": "stream",
     "text": [
      "<sha256 HASH object @ 0x0000018695D1EB48>\n",
      "772a622cdbae4b3e9230f48f33ec0290a2faa7c5ec8a4cf8fd1d0b5fdb83ce14\n",
      "<sha256 HASH object @ 0x0000018695D1E7B0>\n",
      "772a622cdbae4b3e9230f48f33ec0290a2faa7c5ec8a4cf8fd1d0b5fdb83ce14\n"
     ]
    }
   ],
   "source": [
    "# Data masking\n",
    "\n",
    "import re\n",
    "import hashlib\n",
    "#testing data masking\n",
    "test_int = 9818299222\n",
    "test_string = \"password-123#@\"\n",
    "#column_val = str(test_string)\n",
    "#strip_unicode = re.compile(\"([^-_a-zA-Z0-9!@#%&=,/'\\\";:~`\\$\\^\\*\\(\\)\\+\\[\\]\\.\\{\\}\\|\\?\\<\\>\\\\]+|[^\\s]+)\")\n",
    "#column_value = strip_unicode.sub('',  column_val)\n",
    "#domainIndex = column_value.find(\"@\")\n",
    "result = hashlib.sha256(test_string.encode())\n",
    "print(result)   \n",
    "maskedStringValue = result.hexdigest()\n",
    "print(maskedStringValue)\n",
    "\n",
    "#test_string2 = \"password-123#@gmail.com\"\n",
    "\n",
    "column_val2 = str(test_string)\n",
    "result22 = hashlib.sha256(column_val2.encode())\n",
    "print(result22)\n",
    "maskedStringValue22 = result22.hexdigest()\n",
    "print(maskedStringValue22)"
   ]
  },
  {
   "cell_type": "code",
   "execution_count": null,
   "metadata": {},
   "outputs": [],
   "source": [
    "#delete list element based on second list\n",
    "list1 = [11, 5, 17, 18, 23, 50]  \n",
    "index = [0,1,4]\n",
    "index.sort(reverse=True) # deleting taking element in high to low \n",
    "for i in index:\n",
    "    del(list1[i])\n",
    "print(*list1) \n",
    "\n",
    "#method 2\n",
    "list1 = [11, 5, 17, 18, 23, 50]  \n",
    "index = [0,1,4]\n",
    "\n",
    "for i in index:\n",
    "    list1[i]=None\n",
    "[i for i in list1 if i!=None]\n",
    "\n",
    "###QUE1-->  methods to remove element from 1st list from the second list containing index to pick\n"
   ]
  },
  {
   "cell_type": "code",
   "execution_count": null,
   "metadata": {},
   "outputs": [],
   "source": [
    "ls1 = [11, 5, 17, 18, 23, 50]  \n",
    "ls2 = [11,1,4]\n",
    "print(list(set(ls1)-set(ls2)))\n",
    "print(ls1+ls2)\n",
    "###Que2--> find elementin 1st list not in second"
   ]
  },
  {
   "cell_type": "code",
   "execution_count": 42,
   "metadata": {},
   "outputs": [
    {
     "name": "stdout",
     "output_type": "stream",
     "text": [
      "[(1, 2), (2, 1), (2, 3), (2, 5), (4, 4)]\n",
      "[(2, 1), (1, 2), (2, 3), (4, 4), (2, 5)]\n"
     ]
    }
   ],
   "source": [
    "# sort elements based on 2nd element\n",
    "\n",
    "bs = [(2, 5), (1, 2), (4, 4), (2, 3), (2, 1)]\n",
    "ab = bs.sort() #returns null, sort based on 1st element  \n",
    "print(bs)\n",
    "\n",
    "def tuplesum(value):\n",
    "    return(value[1])\n",
    "\n",
    "bs.sort(key=tuplesum)\n",
    "print(bs)"
   ]
  },
  {
   "cell_type": "code",
   "execution_count": 68,
   "metadata": {},
   "outputs": [
    {
     "name": "stdout",
     "output_type": "stream",
     "text": [
      "     Name Qualification\n",
      "0     Jai           Msc\n",
      "1  Princi            MA\n",
      "2  Gaurav           MCA\n",
      "3    Anuj           Phd\n"
     ]
    }
   ],
   "source": [
    "import pandas as pd\n",
    "\n",
    "data = {'Name':['Jai', 'Princi', 'Gaurav', 'Anuj'],\n",
    "        'Age':[27, None, 22, 32],\n",
    "        'Address':['Delhi', 'Kanpur', 'Allahabad', 'Kannauj'],\n",
    "        'Qualification':['Msc', 'MA', 'MCA', 'Phd']}\n",
    " \n",
    "df = pd.DataFrame(data)\n",
    " \n",
    "print(df[['Name', 'Qualification']])\n",
    "#print(df)\n",
    "\n",
    "##OR\n",
    "\n",
    "\n",
    "dict=[{'col1':[1,'2x',3],'col2':[1,2,3]}]#[{key:value,key:value}]\n",
    "#df = pd.DataFrame(dict)\n",
    "#print(df)\n",
    "\n",
    "##OR\n",
    "\n",
    "dict=[{'col1':[1,2,3],'col2':[1,2,3]},{'col1':[5,2,3],'col2':[1,6,3]}]\n",
    "#df = pd.DataFrame(dict)\n",
    "#print(df)\n",
    "\n",
    "##OR\n"
   ]
  },
  {
   "cell_type": "code",
   "execution_count": 71,
   "metadata": {},
   "outputs": [
    {
     "name": "stdout",
     "output_type": "stream",
     "text": [
      "['Name', 'Age', 'Address', 'Qualification']\n",
      "     Name   Age    Address Qualification\n",
      "0     Jai  27.0      Delhi           Msc\n",
      "1  Princi   0.0     Kanpur            MA\n",
      "2  Gaurav  22.0  Allahabad           MCA\n",
      "3    Anuj  32.0    Kannauj           Phd\n"
     ]
    },
    {
     "data": {
      "text/html": [
       "<div>\n",
       "<style scoped>\n",
       "    .dataframe tbody tr th:only-of-type {\n",
       "        vertical-align: middle;\n",
       "    }\n",
       "\n",
       "    .dataframe tbody tr th {\n",
       "        vertical-align: top;\n",
       "    }\n",
       "\n",
       "    .dataframe thead th {\n",
       "        text-align: right;\n",
       "    }\n",
       "</style>\n",
       "<table border=\"1\" class=\"dataframe\">\n",
       "  <thead>\n",
       "    <tr style=\"text-align: right;\">\n",
       "      <th></th>\n",
       "      <th>Name</th>\n",
       "      <th>Age</th>\n",
       "      <th>Address</th>\n",
       "      <th>Qualification</th>\n",
       "    </tr>\n",
       "  </thead>\n",
       "  <tbody>\n",
       "    <tr>\n",
       "      <th>0</th>\n",
       "      <td>Jai</td>\n",
       "      <td>27.0</td>\n",
       "      <td>Delhi</td>\n",
       "      <td>Msc</td>\n",
       "    </tr>\n",
       "  </tbody>\n",
       "</table>\n",
       "</div>"
      ],
      "text/plain": [
       "  Name   Age Address Qualification\n",
       "0  Jai  27.0   Delhi           Msc"
      ]
     },
     "execution_count": 71,
     "metadata": {},
     "output_type": "execute_result"
    }
   ],
   "source": [
    "#ETL\n",
    "\n",
    "\n",
    "#print(df.isnull())#\n",
    "df = df.fillna(0)\n",
    "df = df.dropna() #all rows having NA\n",
    "print(list(df)) #return column\n",
    "print(df)\n",
    "df[df.Name =='Jai']#filter"
   ]
  },
  {
   "cell_type": "code",
   "execution_count": 72,
   "metadata": {},
   "outputs": [
    {
     "name": "stdout",
     "output_type": "stream",
     "text": [
      "      Name  Age    Address Qualification\n",
      "0   Princi   27      Delhi           Msc\n",
      "1  Princi2   25      Delhi           Bsc\n",
      "2  Princi2   24     Kanpur            MA\n",
      "3   Gaurav   22  Allahabad           MCA\n",
      "4     Anuj   32    Kannauj           Phd\n"
     ]
    }
   ],
   "source": [
    "data = {'Name':['Princi','Princi2', 'Princi2', 'Gaurav', 'Anuj'],\n",
    "        'Age':[27,25, 24, 22, 32],\n",
    "        'Address':['Delhi','Delhi', 'Kanpur', 'Allahabad', 'Kannauj'],\n",
    "        'Qualification':['Msc','Bsc', 'MA', 'MCA', 'Phd']}\n",
    " \n",
    "# Convert the dictionary into DataFrame \n",
    "df2 = pd.DataFrame(data)\n",
    " \n",
    "#print(df[['Name', 'Qualification']])\n",
    "print(df2)"
   ]
  },
  {
   "cell_type": "code",
   "execution_count": 77,
   "metadata": {},
   "outputs": [
    {
     "name": "stdout",
     "output_type": "stream",
     "text": [
      "      Name  Age    Address Qualification  Salary2\n",
      "0   Princi   27      Delhi           Msc     5400\n",
      "1  Princi2   25      Delhi           Bsc     5000\n",
      "2  Princi2   24     Kanpur            MA     4800\n",
      "3   Gaurav   22  Allahabad           MCA     4400\n",
      "4     Anuj   32    Kannauj           Phd     6400\n"
     ]
    },
    {
     "name": "stderr",
     "output_type": "stream",
     "text": [
      "C:\\Users\\vprasad\\AppData\\Local\\Continuum\\anaconda3\\lib\\site-packages\\ipykernel_launcher.py:2: FutureWarning: Sorting because non-concatenation axis is not aligned. A future version\n",
      "of pandas will change to not sort by default.\n",
      "\n",
      "To accept the future behavior, pass 'sort=False'.\n",
      "\n",
      "To retain the current behavior and silence the warning, pass 'sort=True'.\n",
      "\n",
      "  \n"
     ]
    }
   ],
   "source": [
    "frames = [df, df2]\n",
    "add = pd.concat(frames)\n",
    "#print(add)\n",
    "df3 = pd.DataFrame()# create empyt df\n",
    "#print(df3)\n",
    "#df2['Salary'] = 'NA' #adding extra column\n",
    "df2['Salary2'] = df2['Age']*200\n",
    "print(df2)\n"
   ]
  },
  {
   "cell_type": "code",
   "execution_count": 83,
   "metadata": {},
   "outputs": [
    {
     "name": "stdout",
     "output_type": "stream",
     "text": [
      "      Name  Age    Address  Salary2\n",
      "0   Princi   27      Delhi     5400\n",
      "1  Princi2   25      Delhi     5000\n",
      "2  Princi2   24     Kanpur     4800\n",
      "3   Gaurav   22  Allahabad     4400\n",
      "4     Anuj   32    Kannauj     6400\n",
      "      Name  Age    Address  Salary2\n",
      "0   Princi   27      Delhi     5400\n",
      "1  Princi2   25      Delhi     5000\n",
      "2  Princi2   24     Kanpur     4800\n",
      "3   Gaurav   22  Allahabad     4400\n",
      "4     Anuj   32    Kannauj     6400\n"
     ]
    },
    {
     "data": {
      "text/html": [
       "<div>\n",
       "<style scoped>\n",
       "    .dataframe tbody tr th:only-of-type {\n",
       "        vertical-align: middle;\n",
       "    }\n",
       "\n",
       "    .dataframe tbody tr th {\n",
       "        vertical-align: top;\n",
       "    }\n",
       "\n",
       "    .dataframe thead th {\n",
       "        text-align: right;\n",
       "    }\n",
       "</style>\n",
       "<table border=\"1\" class=\"dataframe\">\n",
       "  <thead>\n",
       "    <tr style=\"text-align: right;\">\n",
       "      <th></th>\n",
       "      <th>SumOfSalary2</th>\n",
       "      <th>Colname</th>\n",
       "    </tr>\n",
       "    <tr>\n",
       "      <th>Address</th>\n",
       "      <th></th>\n",
       "      <th></th>\n",
       "    </tr>\n",
       "  </thead>\n",
       "  <tbody>\n",
       "    <tr>\n",
       "      <th>Allahabad</th>\n",
       "      <td>4400</td>\n",
       "      <td>Gaurav</td>\n",
       "    </tr>\n",
       "    <tr>\n",
       "      <th>Delhi</th>\n",
       "      <td>10400</td>\n",
       "      <td>Princi</td>\n",
       "    </tr>\n",
       "    <tr>\n",
       "      <th>Kannauj</th>\n",
       "      <td>6400</td>\n",
       "      <td>Anuj</td>\n",
       "    </tr>\n",
       "    <tr>\n",
       "      <th>Kanpur</th>\n",
       "      <td>4800</td>\n",
       "      <td>Princi2</td>\n",
       "    </tr>\n",
       "  </tbody>\n",
       "</table>\n",
       "</div>"
      ],
      "text/plain": [
       "           SumOfSalary2  Colname\n",
       "Address                         \n",
       "Allahabad          4400   Gaurav\n",
       "Delhi             10400   Princi\n",
       "Kannauj            6400     Anuj\n",
       "Kanpur             4800  Princi2"
      ]
     },
     "execution_count": 83,
     "metadata": {},
     "output_type": "execute_result"
    }
   ],
   "source": [
    "\n",
    "print(df2)\n",
    "df2.sort_values(['Salary2'], ascending=True)# sorting dataframe\n",
    "\n",
    "f = {'Salary2': 'sum','Name':'first'}\n",
    "df2.groupby(['Address'], as_index=False).agg(f)\n",
    "\n",
    "print(df2)\n",
    "\n",
    "df2.groupby('Address').aggregate( SumOfSalary2 = pd.NamedAgg(column='Salary2',aggfunc=sum),\n",
    "                                 Colname = pd.NamedAgg(column='Name',aggfunc=min))\n"
   ]
  },
  {
   "cell_type": "code",
   "execution_count": null,
   "metadata": {},
   "outputs": [],
   "source": []
  }
 ],
 "metadata": {
  "kernelspec": {
   "display_name": "Python 3",
   "language": "python",
   "name": "python3"
  },
  "language_info": {
   "codemirror_mode": {
    "name": "ipython",
    "version": 3
   },
   "file_extension": ".py",
   "mimetype": "text/x-python",
   "name": "python",
   "nbconvert_exporter": "python",
   "pygments_lexer": "ipython3",
   "version": "3.7.1"
  }
 },
 "nbformat": 4,
 "nbformat_minor": 2
}
